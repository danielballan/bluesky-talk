{
 "cells": [
  {
   "cell_type": "markdown",
   "metadata": {
    "slideshow": {
     "slide_type": "slide"
    }
   },
   "source": [
    "# Experiments as Iterators:  asyncio in Science\n",
    "\n",
    "<ul>\n",
    "<li>Daniel Allan</li>\n",
    "<li>Thomas Caswell</li>\n",
    "<li>Kenneth Lauer</li>\n",
    "</ul>\n",
    "\n",
    "<p>Brookhaven National Lab</p>\n",
    "<p>Source: https://github.com/NSLS-II</p>\n",
    "<p>Project Documentation: https://NSLS-II.github.io</p>\n",
    "</center>"
   ]
  },
  {
   "cell_type": "markdown",
   "metadata": {
    "slideshow": {
     "slide_type": "subslide"
    }
   },
   "source": [
    "## Origin of this Project\n",
    "\n",
    "National Synchrontron Light Source II at Brookhaven National Lab\n",
    "\n",
    "![NSLS-II](https://www.bnl.gov/ps/images/NSLS2-arial-1080px.jpg)"
   ]
  },
  {
   "cell_type": "markdown",
   "metadata": {
    "slideshow": {
     "slide_type": "subslide"
    }
   },
   "source": [
    "## NSLS-II\n",
    "\n",
    "* 60 semi-independent research groups (10 so far)\n",
    "* Scaling up to 19 Pb/year in \"expensive pixels\"\n",
    "* No sacred data formats...\n",
    "* ... but one validatable, extensible (NoSQL) schema for all:\n",
    "  * metadata\n",
    "  * data or *references* to data"
   ]
  },
  {
   "cell_type": "markdown",
   "metadata": {
    "slideshow": {
     "slide_type": "subslide"
    }
   },
   "source": [
    "## Data Acquisition Software Design Goals\n",
    "\n",
    "* Integrate with the **scipy stack**.\n",
    "* Support **streaming** data analysis.\n",
    "* Capture metadata to record\n",
    "  * a detailed **snapshot** of the hardware (all experiment state);\n",
    "  * and the scientist's **intention**, the meaning of the measurements.\n",
    "* Make datasets **searchable** with rich queries on metadata and data.\n",
    "* As much as possible, avoid inventing a domain-specific language."
   ]
  },
  {
   "cell_type": "markdown",
   "metadata": {
    "slideshow": {
     "slide_type": "slide"
    }
   },
   "source": [
    "## Layers of Software, from the bottom up\n",
    "\n",
    "* EPICS: Experimental Physics and Industrial Control System\n",
    "* ophyd, our device abstraction layer\n",
    "* bluesky, our experiment specification and execution framework"
   ]
  },
  {
   "cell_type": "markdown",
   "metadata": {
    "slideshow": {
     "slide_type": "subslide"
    }
   },
   "source": [
    "### EPICS\n",
    "\n",
    "```python\n",
    "In [1]: import epics\n",
    "\n",
    "In [2]: epics.caget('SOME_INSCRUTABLE_DEVICE_ID')\n",
    "Out[2]: 5.0\n",
    "```\n",
    "\n",
    "Old-style data acquisition program:\n",
    "\n",
    "```python\n",
    "for i in range(5):\n",
    "    try:\n",
    "        epics.caput('MOTOR_ID', i)\n",
    "        value = epics.caget('DETECTOR_ID')\n",
    "        # bespoke I/O code\n",
    "    except:\n",
    "        # bespoke cleanup to ensure hardware safety\n",
    "```\n",
    "\n",
    "Metadata is stuffed into filenames or custom headers."
   ]
  },
  {
   "cell_type": "markdown",
   "metadata": {
    "slideshow": {
     "slide_type": "subslide"
    }
   },
   "source": [
    "### ophyd (device abstraction layer)\n",
    "\n",
    "```python\n",
    "In [3]: import ophyd\n",
    "\n",
    "In [4]: motor = ophyd.EpicsMotor('MOTOR_ID', name='motor')\n",
    "\n",
    "In [5]: motor.read()\n",
    "Out[5]: {'motor':\n",
    "            {'value': 5.0,\n",
    "             'timestamp': 1468325228.751564}}\n",
    "         \n",
    "In [6]: motor.set(6.0)\n",
    "```\n",
    "\n",
    "Devices are expected to support a common interface: `read`, `set`, `stop`, ....\n",
    "\n",
    "Our devices talk to EPICS, but yours could talk to LabView, RasberryPi, etc."
   ]
  },
  {
   "cell_type": "markdown",
   "metadata": {
    "slideshow": {
     "slide_type": "subslide"
    }
   },
   "source": [
    "Devices provide human-friendly names (good for analysis) and a hierarchical structure.\n",
    "\n",
    "```python\n",
    "class MultiAxisMirror(ophyd.Device):\n",
    "    x = ophyd.Component(ophyd.EpicsMotor, ':X')\n",
    "    y = ophyd.Component(ophyd.EpicsMotor, ':Y')\n",
    "    pitch = ophyd.Component(ophyd.EpicsMotor, ':P')\n",
    "\n",
    "\n",
    "mirror = MultiAxisMirror('SOME_ID', name='mirror')\n",
    "\n",
    "In [1]: mirror.read()\n",
    "Out[1]: {'mirror_x': {'value': 1.0, ...},\n",
    "   ...:  'mirror_y': {'value': 1.5, ...},\n",
    "   ...:  'mirror_pitch': {'value': 0.3, ...}}\n",
    "```\n"
   ]
  },
  {
   "cell_type": "markdown",
   "metadata": {
    "slideshow": {
     "slide_type": "subslide"
    }
   },
   "source": [
    "### bluesky (experiment specification/execution)\n",
    "\n",
    "New-style data acquisition program:\n",
    "\n",
    "```python\n",
    "from bluesky.plans import (open_run, close_run,\n",
    "                           abs_set, RunEngine,\n",
    "                           trigger_and_read)\n",
    "                           \n",
    "def plan():\n",
    "    \"scan 'motor' from 1 to 5 while reading 'detector'\"\n",
    "    yield from open_run(some_metadata_dict)\n",
    "    for i in range(5):\n",
    "        yield from abs_set(motor, i)\n",
    "        yield from trigger_and_read([detector])\n",
    "    yield from close_run()\n",
    "```\n",
    "\n",
    "The interpreter-like RunEngine performs I/O, safe hardware cleanup, and more.\n",
    "\n",
    "```python\n",
    "RE = RunEngine({})\n",
    "RE(plan())  # execute\n",
    "```"
   ]
  },
  {
   "cell_type": "markdown",
   "metadata": {
    "slideshow": {
     "slide_type": "slide"
    }
   },
   "source": [
    "### A One-Slide Crash Course in ``yield`` and ``yield from``"
   ]
  },
  {
   "cell_type": "code",
   "execution_count": 5,
   "metadata": {
    "collapsed": true,
    "slideshow": {
     "slide_type": "-"
    }
   },
   "outputs": [],
   "source": [
    "def g():\n",
    "    yield 1\n",
    "    yield 2\n",
    "    \n",
    "a = g()  # a is a 'generator instance'\n",
    "list(a)"
   ]
  },
  {
   "cell_type": "markdown",
   "metadata": {
    "slideshow": {
     "slide_type": "slide"
    }
   },
   "source": [
    "## asyncio\n",
    "\n",
    "* Introduced in Python 3.4 (see PEP 3156)\n",
    "* An event loop abstraction and a high-level scheduler based on `yield from`"
   ]
  },
  {
   "cell_type": "markdown",
   "metadata": {
    "slideshow": {
     "slide_type": "slide"
    }
   },
   "source": [
    "## Why is it useful to think of an experiment as an iterator?\n",
    "\n",
    "* The experiment must be given as an *expression*, not a *statement*"
   ]
  },
  {
   "cell_type": "markdown",
   "metadata": {
    "slideshow": {
     "slide_type": "slide"
    }
   },
   "source": [
    "## So what comprises a \"step\"?\n",
    "\n",
    "* a **command**, given as a string, e.g., ``'set'``\n",
    "* a target **device**, e.g., ``temperature_controller``\n",
    "* positional and keyword arguments\n",
    "\n",
    "Express this as a namedtuple, `Msg`.\n",
    "\n",
    "```\n",
    "msg = Msg(command, device, *args, **kwargs)\n",
    "```"
   ]
  },
  {
   "cell_type": "code",
   "execution_count": null,
   "metadata": {
    "collapsed": true
   },
   "outputs": [],
   "source": [
    "plan = [Msg('')]"
   ]
  },
  {
   "cell_type": "markdown",
   "metadata": {
    "nbpresent": {
     "id": "4181520e-fd89-4a4d-8f92-64d7da69714d"
    },
    "slideshow": {
     "slide_type": "slide"
    }
   },
   "source": [
    "## Three different times metadata can be injected\n",
    "\n",
    "* before experiments starts, in a global stash\n",
    "* when an experimental plan is written\n",
    "* interactively, when an experimental plan is executed"
   ]
  },
  {
   "cell_type": "code",
   "execution_count": 12,
   "metadata": {
    "collapsed": true,
    "nbpresent": {
     "id": "5084f30b-2660-445b-a71d-e056e36bfccd"
    }
   },
   "outputs": [],
   "source": [
    "from bluesky import RunEngine, Msg\n",
    "RE = RunEngine({'user': 'dan'})"
   ]
  },
  {
   "cell_type": "code",
   "execution_count": 9,
   "metadata": {
    "collapsed": true,
    "nbpresent": {
     "id": "624e224f-2f5d-43d0-b160-490999b693e9"
    }
   },
   "outputs": [],
   "source": [
    "plan = [Msg('open_run', plan_name='demo plan', num_readings=1),\n",
    "        Msg('close_run')]"
   ]
  },
  {
   "cell_type": "code",
   "execution_count": 15,
   "metadata": {
    "collapsed": false,
    "nbpresent": {
     "id": "54fd886d-aec0-4cdc-8f90-9548eb98ca6f"
    }
   },
   "outputs": [
    {
     "name": "stdout",
     "output_type": "stream",
     "text": [
      "start {'plan_name': 'demo plan', 'plan_type': 'list', 'uid': 'eb5d8aae-16f5-4bef-bac7-ab607b5037ae', 'num_readings': 1, 'scan_id': 2, 'time': 1468246826.637021}\n",
      "stop {'exit_status': 'success', 'reason': '', 'uid': 'dbb3b54c-cce4-4fb0-9f26-e49e7e3a10a5', 'run_start': 'eb5d8aae-16f5-4bef-bac7-ab607b5037ae', 'time': 1468246826.639693}\n"
     ]
    },
    {
     "data": {
      "text/plain": [
       "['eb5d8aae-16f5-4bef-bac7-ab607b5037ae']"
      ]
     },
     "execution_count": 15,
     "metadata": {},
     "output_type": "execute_result"
    }
   ],
   "source": [
    "RE(plan, print, mood='optimistic')"
   ]
  },
  {
   "cell_type": "markdown",
   "metadata": {
    "nbpresent": {
     "id": "282d0ac8-d7f5-4098-af3c-cacf6119d071"
    }
   },
   "source": [
    "# Document Model\n",
    "\n",
    "* An \"Event\" is a group of readings that, for scientific purposes, are synchronous."
   ]
  },
  {
   "cell_type": "markdown",
   "metadata": {
    "nbpresent": {
     "id": "88878ca0-9c2a-4bb2-9ee4-48090cf7c439"
    }
   },
   "source": [
    "## Exception handling"
   ]
  },
  {
   "cell_type": "code",
   "execution_count": 17,
   "metadata": {
    "collapsed": false,
    "nbpresent": {
     "id": "65bad324-d1de-4d86-8cb0-07971d645b8f"
    }
   },
   "outputs": [],
   "source": [
    "from bluesky.plans import finalize_wrapper"
   ]
  },
  {
   "cell_type": "code",
   "execution_count": null,
   "metadata": {
    "collapsed": true,
    "nbpresent": {
     "id": "719fc200-76a2-48d3-b13d-493a584e2413"
    }
   },
   "outputs": [],
   "source": [
    "finalize_wrapper()"
   ]
  }
 ],
 "metadata": {
  "anaconda-cloud": {},
  "celltoolbar": "Slideshow",
  "kernelspec": {
   "display_name": "Python [bnl]",
   "language": "python",
   "name": "Python [bnl]"
  },
  "language_info": {
   "codemirror_mode": {
    "name": "ipython",
    "version": 3
   },
   "file_extension": ".py",
   "mimetype": "text/x-python",
   "name": "python",
   "nbconvert_exporter": "python",
   "pygments_lexer": "ipython3",
   "version": "3.5.2"
  },
  "nbpresent": {
   "slides": {
    "dbc322bf-e91e-46c0-bfbc-0e7360629b7b": {
     "id": "dbc322bf-e91e-46c0-bfbc-0e7360629b7b",
     "prev": "ffd53d27-ea32-4370-bd07-35b600c3ab58",
     "regions": {
      "d3eb6fc4-5017-4091-8686-1348d63cfd3a": {
       "attrs": {
        "height": 1,
        "width": 1,
        "x": 0,
        "y": 0
       },
       "id": "d3eb6fc4-5017-4091-8686-1348d63cfd3a"
      }
     }
    },
    "ffd53d27-ea32-4370-bd07-35b600c3ab58": {
     "id": "ffd53d27-ea32-4370-bd07-35b600c3ab58",
     "layout": "grid",
     "prev": null,
     "regions": {
      "558cca0b-969a-417b-bbc3-2caf93e21cc5": {
       "attrs": {
        "height": 0.8333333333333334,
        "pad": 0.01,
        "width": 0.8333333333333334,
        "x": 0.08333333333333333,
        "y": 0.08333333333333333
       },
       "id": "558cca0b-969a-417b-bbc3-2caf93e21cc5"
      },
      "c0806422-85fb-4629-bd67-86d1fd3809e8": {
       "attrs": {
        "height": 1,
        "pad": 0.01,
        "width": 1,
        "x": 0,
        "y": 0
       },
       "id": "c0806422-85fb-4629-bd67-86d1fd3809e8"
      }
     }
    }
   },
   "themes": {}
  }
 },
 "nbformat": 4,
 "nbformat_minor": 0
}
