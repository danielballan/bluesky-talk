{
 "cells": [
  {
   "cell_type": "markdown",
   "metadata": {
    "slideshow": {
     "slide_type": "slide"
    }
   },
   "source": [
    "# Experiments as Iterators:  asyncio in Science\n",
    "\n",
    "<ul>\n",
    "<li>Daniel Allan</li>\n",
    "<li>Thomas Caswell</li>\n",
    "<li>Kenneth Lauer</li>\n",
    "</ul>\n",
    "\n",
    "<p>Brookhaven National Lab</p>\n",
    "<p>Source: https://github.com/NSLS-II</p>\n",
    "<p>Project Documentation: https://NSLS-II.github.io</p>\n",
    "</center>"
   ]
  },
  {
   "cell_type": "markdown",
   "metadata": {
    "slideshow": {
     "slide_type": "subslide"
    }
   },
   "source": [
    "## Origin of this Project\n",
    "\n",
    "National Synchrontron Light Source II at Brookhaven National Lab\n",
    "\n",
    "![NSLS-II](https://www.bnl.gov/ps/images/NSLS2-arial-1080px.jpg)"
   ]
  },
  {
   "cell_type": "markdown",
   "metadata": {
    "slideshow": {
     "slide_type": "subslide"
    }
   },
   "source": [
    "## NSLS-II\n",
    "\n",
    "* 12 semi-independent research groups, scaling up to 60 in ~5 years\n",
    "* Scaling up to 19 Pb/year in \"expensive pixels\"\n",
    "* No sacred data formats...\n",
    "* ... but one validatable, extensible (NoSQL) schema for all:\n",
    "  * metadata\n",
    "  * data or *references* to data"
   ]
  },
  {
   "cell_type": "markdown",
   "metadata": {
    "slideshow": {
     "slide_type": "subslide"
    }
   },
   "source": [
    "## Data Acquisition Software Design Goals\n",
    "\n",
    "* Integrate with the **scipy stack**.\n",
    "* Support **streaming** data analysis.\n",
    "* Capture metadata to record\n",
    "  * a detailed **snapshot** of the hardware (all experiment state);\n",
    "  * and the scientist's **intention**, the meaning of the measurements.\n",
    "* Make datasets **searchable** with rich queries on metadata and data.\n",
    "* As much as possible, minimize inventing a domain-specific language."
   ]
  },
  {
   "cell_type": "markdown",
   "metadata": {
    "slideshow": {
     "slide_type": "subslide"
    }
   },
   "source": [
    "Traditional data acquisition script:\n",
    "\n",
    "```python\n",
    "for i in range(5):\n",
    "    try:\n",
    "        put('MOTOR_ID', i)\n",
    "        value = get('DETECTOR_ID')\n",
    "        # bespoke I/O code\n",
    "    except:\n",
    "        # bespoke cleanup to ensure hardware safety\n",
    "```\n",
    "\n",
    "Metadata is stuffed into filenames or custom headers."
   ]
  },
  {
   "cell_type": "markdown",
   "metadata": {
    "slideshow": {
     "slide_type": "subslide"
    }
   },
   "source": [
    "### ophyd (device abstraction layer)\n",
    "\n",
    "```python\n",
    "In [3]: import ophyd\n",
    "\n",
    "In [4]: motor = ophyd.EpicsMotor('MOTOR_ID', name='motor')\n",
    "\n",
    "In [5]: motor.read()\n",
    "Out[5]: {'motor':\n",
    "            {'value': 5.0,\n",
    "             'timestamp': 1468325228.751564}}\n",
    "         \n",
    "In [6]: motor.set(6.0)\n",
    "```\n",
    "\n",
    "Devices are expected to support a common interface: `read`, `set`, `stop`, ....\n",
    "\n",
    "Our devices talk to EPICS, but yours could talk to LabView, RasberryPi, raw serial, etc."
   ]
  },
  {
   "cell_type": "markdown",
   "metadata": {
    "slideshow": {
     "slide_type": "subslide"
    }
   },
   "source": [
    "Devices provide human-friendly names (useful during analysis) and a hierarchical structure.\n",
    "\n",
    "```python\n",
    "class MultiAxisMirror(ophyd.Device):\n",
    "    x = ophyd.Component(ophyd.EpicsMotor, ':X')\n",
    "    y = ophyd.Component(ophyd.EpicsMotor, ':Y')\n",
    "    pitch = ophyd.Component(ophyd.EpicsMotor, ':P')\n",
    "\n",
    "\n",
    "mirror = MultiAxisMirror('SOME_ID', name='mirror')\n",
    "\n",
    "In [1]: mirror.read()\n",
    "Out[1]: {'mirror_x': {'value': 1.0, ...},\n",
    "   ...:  'mirror_y': {'value': 1.5, ...},\n",
    "   ...:  'mirror_pitch': {'value': 0.3, ...}}\n",
    "```\n"
   ]
  },
  {
   "cell_type": "markdown",
   "metadata": {
    "slideshow": {
     "slide_type": "subslide"
    }
   },
   "source": [
    "### bluesky (experiment specification/execution)\n",
    "\n",
    "New-style data acquisition program:\n",
    "\n",
    "```python\n",
    "from bluesky.plans import (open_run, close_run,\n",
    "                           abs_set,\n",
    "                           trigger_and_read)\n",
    "                           \n",
    "def plan():\n",
    "    \"scan 'motor' from 1 to 5 while reading 'det'\"\n",
    "    yield from open_run(some_metadata_dict)\n",
    "    for i in range(5):\n",
    "        yield from abs_set(motor, i)\n",
    "        yield from trigger_and_read([det])\n",
    "    yield from close_run()\n",
    "\n",
    "RE(plan())  # execute (I/O and cleanup for free!)\n",
    "```"
   ]
  },
  {
   "cell_type": "markdown",
   "metadata": {
    "slideshow": {
     "slide_type": "subslide"
    }
   },
   "source": [
    "### A Two-Slide Crash Course in ``yield`` and ``yield from``"
   ]
  },
  {
   "cell_type": "code",
   "execution_count": 89,
   "metadata": {
    "collapsed": false,
    "slideshow": {
     "slide_type": "fragment"
    }
   },
   "outputs": [],
   "source": [
    "# Python 2.5+ (PEP 342)\n",
    "\n",
    "def g():\n",
    "    # g is a 'generator'\n",
    "    yield 1\n",
    "    yield 2\n",
    "    \n",
    "a = g()  # a is a 'generator instance'"
   ]
  },
  {
   "cell_type": "code",
   "execution_count": 90,
   "metadata": {
    "collapsed": false,
    "slideshow": {
     "slide_type": "fragment"
    }
   },
   "outputs": [
    {
     "data": {
      "text/plain": [
       "1"
      ]
     },
     "execution_count": 90,
     "metadata": {},
     "output_type": "execute_result"
    }
   ],
   "source": [
    "next(a)"
   ]
  },
  {
   "cell_type": "code",
   "execution_count": 91,
   "metadata": {
    "collapsed": false,
    "slideshow": {
     "slide_type": "fragment"
    }
   },
   "outputs": [
    {
     "data": {
      "text/plain": [
       "2"
      ]
     },
     "execution_count": 91,
     "metadata": {},
     "output_type": "execute_result"
    }
   ],
   "source": [
    "next(a)"
   ]
  },
  {
   "cell_type": "code",
   "execution_count": 92,
   "metadata": {
    "collapsed": false,
    "slideshow": {
     "slide_type": "fragment"
    }
   },
   "outputs": [
    {
     "data": {
      "text/plain": [
       "[1, 2]"
      ]
     },
     "execution_count": 92,
     "metadata": {},
     "output_type": "execute_result"
    }
   ],
   "source": [
    "list(g())"
   ]
  },
  {
   "cell_type": "code",
   "execution_count": 93,
   "metadata": {
    "collapsed": false,
    "slideshow": {
     "slide_type": "subslide"
    }
   },
   "outputs": [
    {
     "data": {
      "text/plain": [
       "[0, 1, 2, 4]"
      ]
     },
     "execution_count": 93,
     "metadata": {},
     "output_type": "execute_result"
    }
   ],
   "source": [
    "# Python 3.3+ (PEP 380)\n",
    "\n",
    "def h():\n",
    "    yield 0\n",
    "    yield from g()\n",
    "    yield 4\n",
    "\n",
    "list(h())"
   ]
  },
  {
   "cell_type": "markdown",
   "metadata": {
    "slideshow": {
     "slide_type": "fragment"
    }
   },
   "source": [
    "Go watch James Powell's *Generators Will Free Your Mind* on YouTube!"
   ]
  },
  {
   "cell_type": "markdown",
   "metadata": {
    "slideshow": {
     "slide_type": "subslide"
    }
   },
   "source": [
    "## The rest of this talk:\n",
    "\n",
    "(1) How the **RunEngine** `RE` executes the instructions in the `plan`\n",
    "\n",
    "(2) Neat implications of expressing a **science experiment as a generator**\n",
    "\n",
    "(3) Reliably **capturing state and semantics** is a critical input to reproducible workflows in experimental science"
   ]
  },
  {
   "cell_type": "markdown",
   "metadata": {
    "slideshow": {
     "slide_type": "slide"
    }
   },
   "source": [
    "## The RunEngine from Scratch\n",
    "\n",
    "In Which We Built Progressively More Complex Implementations"
   ]
  },
  {
   "cell_type": "markdown",
   "metadata": {
    "slideshow": {
     "slide_type": "subslide"
    }
   },
   "source": [
    "### A 'plan' is an iterable of 'messages'\n",
    "\n",
    "A `Msg` is a `namedtuple` with four fields:\n",
    "\n",
    "* a **command**, given as a string, e.g., ``'set'`` or ``'sleep'``\n",
    "* a target **obj**, e.g., ``motor`` (if applicable)\n",
    "* positional **args**\n",
    "* **kwargs**"
   ]
  },
  {
   "cell_type": "code",
   "execution_count": 94,
   "metadata": {
    "collapsed": false,
    "slideshow": {
     "slide_type": "fragment"
    }
   },
   "outputs": [
    {
     "data": {
      "text/plain": [
       "sleep: (None), (1,), {}"
      ]
     },
     "execution_count": 94,
     "metadata": {},
     "output_type": "execute_result"
    }
   ],
   "source": [
    "from bluesky import Msg\n",
    "\n",
    "Msg('sleep', None, 1)"
   ]
  },
  {
   "cell_type": "markdown",
   "metadata": {
    "slideshow": {
     "slide_type": "subslide"
    }
   },
   "source": [
    "### Version 0: the simplest possible RunEngine"
   ]
  },
  {
   "cell_type": "code",
   "execution_count": 98,
   "metadata": {
    "collapsed": false,
    "slideshow": {
     "slide_type": "fragment"
    }
   },
   "outputs": [
    {
     "name": "stdout",
     "output_type": "stream",
     "text": [
      "PROCESSING: sleep: (None), (1,), {}\n",
      "PROCESSING: print: (None), ('HELLO WORLD',), {}\n",
      "HELLO WORLD\n"
     ]
    }
   ],
   "source": [
    "import time\n",
    "from bluesky import Msg\n",
    "\n",
    "function_map = {'sleep': lambda msg: time.sleep(*msg.args),\n",
    "                'print': lambda msg: print(*msg.args)}\n",
    "\n",
    "def RE_v0(plan):\n",
    "    for msg in plan:\n",
    "        print('PROCESSING: %r' % (msg,))\n",
    "        func = function_map[msg.command]\n",
    "        func(msg)\n",
    "        \n",
    "sleepy_plan = [Msg('sleep', None, 1),\n",
    "               Msg('print', None, 'HELLO WORLD')]\n",
    "\n",
    "RE_v0(sleepy_plan)"
   ]
  },
  {
   "cell_type": "markdown",
   "metadata": {
    "slideshow": {
     "slide_type": "subslide"
    }
   },
   "source": [
    "### Version 1: a RunEngine that supports adaptive plan logic"
   ]
  },
  {
   "cell_type": "code",
   "execution_count": 99,
   "metadata": {
    "collapsed": false,
    "slideshow": {
     "slide_type": "fragment"
    }
   },
   "outputs": [],
   "source": [
    "from bluesky.utils import ensure_generator\n",
    "\n",
    "def RE_v1(plan):\n",
    "    plan = ensure_generator(plan)\n",
    "    last_result = None\n",
    "\n",
    "    while True:\n",
    "        try:\n",
    "            msg = plan.send(last_result)\n",
    "        except StopIteration:\n",
    "            break\n",
    "        print('PROCESSING: %r' % (msg,))\n",
    "        func = function_map[msg.command]\n",
    "        last_result = func(msg)\n",
    "\n",
    "function_map['sum'] = lambda msg: sum(msg.args)"
   ]
  },
  {
   "cell_type": "code",
   "execution_count": 100,
   "metadata": {
    "collapsed": false,
    "slideshow": {
     "slide_type": "subslide"
    }
   },
   "outputs": [
    {
     "name": "stdout",
     "output_type": "stream",
     "text": [
      "PROCESSING: sleep: (None), (1,), {}\n",
      "PROCESSING: sum: (None), (3, 4), {}\n",
      "RECEIVED: 7\n"
     ]
    }
   ],
   "source": [
    "def adding_plan():\n",
    "    \"Ask the RunEngine to add to numbers. Print the result.\"\n",
    "    yield Msg('sleep', None, 1)\n",
    "    result = yield Msg('sum', None, 3, 4)\n",
    "    print('RECEIVED:', result)\n",
    "    \n",
    "RE_v1(adding_plan())"
   ]
  },
  {
   "cell_type": "code",
   "execution_count": 102,
   "metadata": {
    "collapsed": false,
    "slideshow": {
     "slide_type": "subslide"
    }
   },
   "outputs": [
    {
     "name": "stdout",
     "output_type": "stream",
     "text": [
      "PROCESSING: sleep: (None), (1,), {}\n",
      "PROCESSING: sum: (None), (1, 3), {}\n",
      "RECEIVED: 4\n",
      "PROCESSING: sleep: (None), (1,), {}\n",
      "PROCESSING: sum: (None), (4, 3), {}\n",
      "RECEIVED: 7\n",
      "PROCESSING: sleep: (None), (1,), {}\n",
      "PROCESSING: sum: (None), (7, 3), {}\n",
      "RECEIVED: 10\n",
      "we are done\n"
     ]
    }
   ],
   "source": [
    "def adaptive_adding_plan():\n",
    "    \"Keep adding 3 until the result is greater than 8.\"\n",
    "    result = 1\n",
    "    while True:\n",
    "        yield Msg('sleep', None, 1)\n",
    "        result = yield Msg('sum', None, result, 3)\n",
    "        print('RECEIVED:', result)\n",
    "        if result > 8:\n",
    "            print('we are done')\n",
    "            break\n",
    "            \n",
    "RE_v1(adaptive_adding_plan())"
   ]
  },
  {
   "cell_type": "markdown",
   "metadata": {
    "slideshow": {
     "slide_type": "subslide"
    }
   },
   "source": [
    "### Version 2: refactor as a callable class\n",
    "\n",
    "A class, unlike a simple function, gives us access to the internal state."
   ]
  },
  {
   "cell_type": "code",
   "execution_count": null,
   "metadata": {
    "collapsed": false,
    "slideshow": {
     "slide_type": "subslide"
    }
   },
   "outputs": [],
   "source": [
    "class RunEngine_v2:\n",
    "    def __call__(self, plan):\n",
    "        self._run(plan)\n",
    "    \n",
    "    def _run(self, plan):\n",
    "        plan = ensure_generator(plan)\n",
    "        last_result = None\n",
    "\n",
    "        while True:\n",
    "            try:\n",
    "                msg = plan.send(last_result)\n",
    "            except StopIteration:\n",
    "                break\n",
    "            print('PROCESSING: %r' % (msg,))\n",
    "            func = function_map[msg.command]\n",
    "            last_result = func(msg)"
   ]
  },
  {
   "cell_type": "code",
   "execution_count": 103,
   "metadata": {
    "collapsed": false,
    "slideshow": {
     "slide_type": "fragment"
    }
   },
   "outputs": [
    {
     "name": "stdout",
     "output_type": "stream",
     "text": [
      "PROCESSING: sleep: (None), (1,), {}\n",
      "PROCESSING: sum: (None), (1, 3), {}\n",
      "RECEIVED: 4\n",
      "PROCESSING: sleep: (None), (1,), {}\n",
      "PROCESSING: sum: (None), (4, 3), {}\n",
      "RECEIVED: 7\n",
      "PROCESSING: sleep: (None), (1,), {}\n",
      "PROCESSING: sum: (None), (7, 3), {}\n",
      "RECEIVED: 10\n",
      "we are done\n"
     ]
    }
   ],
   "source": [
    "# It still works.\n",
    "RE_v2 = RunEngine_v2()\n",
    "RE_v2(adaptive_adding_plan())"
   ]
  },
  {
   "cell_type": "markdown",
   "metadata": {
    "slideshow": {
     "slide_type": "subslide"
    }
   },
   "source": [
    "### Version 3: toward a RunEngine that supports interruptions / resuming\n",
    "\n",
    "* The RunEngine still manages the main loop, processing the plan\n",
    "* asyncio provides an outer event loop that manages multiple frames of execution"
   ]
  },
  {
   "cell_type": "code",
   "execution_count": 105,
   "metadata": {
    "collapsed": false,
    "slideshow": {
     "slide_type": "subslide"
    }
   },
   "outputs": [],
   "source": [
    "import asyncio\n",
    "\n",
    "loop = asyncio.get_event_loop()\n",
    "\n",
    "# Reimplement all command functions as coroutines.\n",
    "\n",
    "@asyncio.coroutine\n",
    "def _sum(msg):\n",
    "    return sum(msg.args)\n",
    "\n",
    "@asyncio.coroutine\n",
    "def _sleep(msg):\n",
    "    yield from asyncio.sleep(*msg.args, loop=loop)"
   ]
  },
  {
   "cell_type": "code",
   "execution_count": 106,
   "metadata": {
    "collapsed": true,
    "slideshow": {
     "slide_type": "subslide"
    }
   },
   "outputs": [],
   "source": [
    "class RunEngine_v3:\n",
    "    def __init__(self):\n",
    "        loop = asyncio.new_event_loop()\n",
    "        self.coroutine_map = {'sleep': _sleep,\n",
    "                             'sum': _sum}\n",
    "        \n",
    "    def __call__(self, plan):\n",
    "        self._task = loop.create_task(self._run(plan))\n",
    "        loop.run_until_complete(self._task)\n",
    "        \n",
    "        if self._task.done() and not self._task.cancelled():\n",
    "            exc = self._task.exception()\n",
    "            if exc is not None:\n",
    "                raise exc\n",
    "                \n",
    "    @asyncio.coroutine\n",
    "    def _run(self, plan):\n",
    "        plan = ensure_generator(plan)\n",
    "        last_result = None\n",
    "\n",
    "        while True:\n",
    "            try:\n",
    "                msg = plan.send(last_result)\n",
    "            except StopIteration:\n",
    "                break\n",
    "            print('PROCESSING: %r' % (msg,))\n",
    "            coroutine = self.coroutine_map[msg.command]\n",
    "            last_result = yield from coroutine(msg)"
   ]
  },
  {
   "cell_type": "code",
   "execution_count": 107,
   "metadata": {
    "collapsed": false,
    "slideshow": {
     "slide_type": "subslide"
    }
   },
   "outputs": [
    {
     "name": "stdout",
     "output_type": "stream",
     "text": [
      "PROCESSING: sleep: (None), (1,), {}\n",
      "PROCESSING: sum: (None), (1, 3), {}\n",
      "RECEIVED: 4\n",
      "PROCESSING: sleep: (None), (1,), {}\n",
      "PROCESSING: sum: (None), (4, 3), {}\n",
      "RECEIVED: 7\n",
      "PROCESSING: sleep: (None), (1,), {}\n",
      "PROCESSING: sum: (None), (7, 3), {}\n",
      "RECEIVED: 10\n",
      "we are done\n"
     ]
    }
   ],
   "source": [
    "# And it still works\n",
    "RE_v3 = RunEngine_v3()\n",
    "RE_v3(adaptive_adding_plan())"
   ]
  },
  {
   "cell_type": "markdown",
   "metadata": {
    "slideshow": {
     "slide_type": "slide"
    }
   },
   "source": [
    "## Execution can be interrupted and cleanly resumed"
   ]
  },
  {
   "cell_type": "code",
   "execution_count": 108,
   "metadata": {
    "collapsed": false,
    "slideshow": {
     "slide_type": "fragment"
    }
   },
   "outputs": [],
   "source": [
    "from bluesky import RunEngine  # finally, the real thing\n",
    "\n",
    "# Make a RunEngine.\n",
    "RE = RunEngine({})\n",
    "\n",
    "# Teach it our toy command, 'sum'.\n",
    "@asyncio.coroutine\n",
    "def _sum(msg):\n",
    "    return sum(msg.args)\n",
    "\n",
    "RE.register_command('sum', _sum)\n",
    " \n",
    "# Make it verbose, as our demo implementations were.\n",
    "RE.msg_hook = lambda msg: print(\"PROCESSING:\", msg)"
   ]
  },
  {
   "cell_type": "code",
   "execution_count": 110,
   "metadata": {
    "collapsed": false,
    "scrolled": true,
    "slideshow": {
     "slide_type": "subslide"
    }
   },
   "outputs": [
    {
     "name": "stdout",
     "output_type": "stream",
     "text": [
      "PROCESSING: sleep: (None), (1,), {}\n",
      "PROCESSING: sum: (None), (1, 3), {}\n",
      "RECEIVED: 4\n",
      "PROCESSING: sleep: (None), (1,), {}\n",
      "A 'deferred pause' has been requested. The RunEngine will pause at the next checkpoint. To pause immediately, hit Ctrl+C again in the next 10 seconds.\n",
      "Deferred pause acknowledged. Continuing to checkpoint.\n",
      "\n",
      "Your RunEngine is entering a paused state. These are your options for changing\n",
      "the state of the RunEngine:\n",
      "\n",
      "resume()  --> will resume the scan\n",
      " abort()  --> will kill the scan with an 'aborted' state to indicate\n",
      "              the scan was interrupted\n",
      "  stop()  --> will kill the scan with a 'finished' state to indicate\n",
      "              the scan stopped normally\n",
      "\n",
      "Pro Tip: Next time, if you want to abort, tap Ctrl+C three times quickly.\n",
      "\n",
      "Pausing...\n"
     ]
    },
    {
     "data": {
      "text/plain": [
       "[]"
      ]
     },
     "execution_count": 110,
     "metadata": {},
     "output_type": "execute_result"
    }
   ],
   "source": [
    "RE(adaptive_adding_plan())"
   ]
  },
  {
   "cell_type": "code",
   "execution_count": 111,
   "metadata": {
    "collapsed": false,
    "slideshow": {
     "slide_type": "subslide"
    }
   },
   "outputs": [
    {
     "name": "stdout",
     "output_type": "stream",
     "text": [
      "PROCESSING: sleep: (None), (1,), {}\n",
      "PROCESSING: sum: (None), (1, 3), {}\n",
      "PROCESSING: sleep: (None), (1,), {}\n",
      "PROCESSING: sum: (None), (4, 3), {}\n",
      "RECEIVED: 7\n",
      "PROCESSING: sleep: (None), (1,), {}\n",
      "PROCESSING: sum: (None), (7, 3), {}\n",
      "RECEIVED: 10\n",
      "we are done\n"
     ]
    },
    {
     "data": {
      "text/plain": [
       "[]"
      ]
     },
     "execution_count": 111,
     "metadata": {},
     "output_type": "execute_result"
    }
   ],
   "source": [
    "RE.resume()"
   ]
  },
  {
   "cell_type": "code",
   "execution_count": 112,
   "metadata": {
    "collapsed": true,
    "slideshow": {
     "slide_type": "subslide"
    }
   },
   "outputs": [],
   "source": [
    "def adaptive_adding_plan_with_checkpoints():\n",
    "    \"Keep adding 3 until the result is greater than 8.\"\n",
    "    ret = 1\n",
    "    while True:\n",
    "        yield Msg('checkpoint')  # NEW\n",
    "        yield Msg('sleep', None, 1)\n",
    "        ret = yield Msg('sum', None, ret, 3)\n",
    "        print('RECEIVED:', ret)\n",
    "        if ret > 8:\n",
    "            print('we are done')\n",
    "            break"
   ]
  },
  {
   "cell_type": "code",
   "execution_count": 113,
   "metadata": {
    "collapsed": false,
    "scrolled": true,
    "slideshow": {
     "slide_type": "subslide"
    }
   },
   "outputs": [
    {
     "name": "stdout",
     "output_type": "stream",
     "text": [
      "PROCESSING: checkpoint: (None), (), {}\n",
      "PROCESSING: sleep: (None), (1,), {}\n",
      "A 'deferred pause' has been requested. The RunEngine will pause at the next checkpoint. To pause immediately, hit Ctrl+C again in the next 10 seconds.\n",
      "Deferred pause acknowledged. Continuing to checkpoint.\n",
      "PROCESSING: sum: (None), (1, 3), {}\n",
      "RECEIVED: 4\n",
      "PROCESSING: checkpoint: (None), (), {}\n",
      "Pausing...\n"
     ]
    },
    {
     "data": {
      "text/plain": [
       "[]"
      ]
     },
     "execution_count": 113,
     "metadata": {},
     "output_type": "execute_result"
    }
   ],
   "source": [
    "RE(adaptive_adding_plan_with_checkpoints())"
   ]
  },
  {
   "cell_type": "code",
   "execution_count": 114,
   "metadata": {
    "collapsed": false,
    "slideshow": {
     "slide_type": "subslide"
    }
   },
   "outputs": [
    {
     "name": "stdout",
     "output_type": "stream",
     "text": [
      "PROCESSING: sleep: (None), (1,), {}\n",
      "PROCESSING: sum: (None), (4, 3), {}\n",
      "RECEIVED: 7\n",
      "PROCESSING: checkpoint: (None), (), {}\n",
      "PROCESSING: sleep: (None), (1,), {}\n",
      "PROCESSING: sum: (None), (7, 3), {}\n",
      "RECEIVED: 10\n",
      "we are done\n"
     ]
    },
    {
     "data": {
      "text/plain": [
       "[]"
      ]
     },
     "execution_count": 114,
     "metadata": {},
     "output_type": "execute_result"
    }
   ],
   "source": [
    "RE.resume()"
   ]
  },
  {
   "cell_type": "markdown",
   "metadata": {
    "slideshow": {
     "slide_type": "slide"
    }
   },
   "source": [
    "## Plans can handle exceptions"
   ]
  },
  {
   "cell_type": "code",
   "execution_count": 115,
   "metadata": {
    "collapsed": false,
    "scrolled": false,
    "slideshow": {
     "slide_type": "subslide"
    }
   },
   "outputs": [
    {
     "name": "stdout",
     "output_type": "stream",
     "text": [
      "PROCESSING: sleep: (None), (1,), {}\n",
      "ERROR!\n"
     ]
    },
    {
     "ename": "Exception",
     "evalue": "Problematic!",
     "output_type": "error",
     "traceback": [
      "\u001b[0;31m------------------------------------------------\u001b[0m",
      "\u001b[0;31mException\u001b[0m      Traceback (most recent call last)",
      "\u001b[0;32m<ipython-input-115-1f7f74ec0216>\u001b[0m in \u001b[0;36m<module>\u001b[0;34m()\u001b[0m\n\u001b[1;32m      4\u001b[0m     \u001b[0;32mraise\u001b[0m \u001b[0mException\u001b[0m\u001b[0;34m(\u001b[0m\u001b[0;34m\"Problematic!\"\u001b[0m\u001b[0;34m)\u001b[0m\u001b[0;34m\u001b[0m\u001b[0m\n\u001b[1;32m      5\u001b[0m \u001b[0;34m\u001b[0m\u001b[0m\n\u001b[0;32m----> 6\u001b[0;31m \u001b[0mRE\u001b[0m\u001b[0;34m(\u001b[0m\u001b[0mproblematic_plan\u001b[0m\u001b[0;34m(\u001b[0m\u001b[0;34m)\u001b[0m\u001b[0;34m)\u001b[0m\u001b[0;34m\u001b[0m\u001b[0m\n\u001b[0m",
      "\u001b[0;32m/Users/dallan/Documents/Repos/bluesky/bluesky/run_engine.py\u001b[0m in \u001b[0;36m__call__\u001b[0;34m(self, plan, subs, raise_if_interrupted, **metadata_kw)\u001b[0m\n\u001b[1;32m    593\u001b[0m                 \u001b[0mexc\u001b[0m \u001b[0;34m=\u001b[0m \u001b[0mself\u001b[0m\u001b[0;34m.\u001b[0m\u001b[0m_task\u001b[0m\u001b[0;34m.\u001b[0m\u001b[0mexception\u001b[0m\u001b[0;34m(\u001b[0m\u001b[0;34m)\u001b[0m\u001b[0;34m\u001b[0m\u001b[0m\n\u001b[1;32m    594\u001b[0m                 \u001b[0;32mif\u001b[0m \u001b[0mexc\u001b[0m \u001b[0;32mis\u001b[0m \u001b[0;32mnot\u001b[0m \u001b[0;32mNone\u001b[0m\u001b[0;34m:\u001b[0m\u001b[0;34m\u001b[0m\u001b[0m\n\u001b[0;32m--> 595\u001b[0;31m                     \u001b[0;32mraise\u001b[0m \u001b[0mexc\u001b[0m\u001b[0;34m\u001b[0m\u001b[0m\n\u001b[0m\u001b[1;32m    596\u001b[0m             \u001b[0;32mif\u001b[0m \u001b[0mraise_if_interrupted\u001b[0m \u001b[0;32mand\u001b[0m \u001b[0mself\u001b[0m\u001b[0;34m.\u001b[0m\u001b[0m_interrupted\u001b[0m\u001b[0;34m:\u001b[0m\u001b[0;34m\u001b[0m\u001b[0m\n\u001b[1;32m    597\u001b[0m                 \u001b[0;32mraise\u001b[0m \u001b[0mRunEngineInterrupted\u001b[0m\u001b[0;34m(\u001b[0m\u001b[0;34m\"RunEngine was interrupted.\"\u001b[0m\u001b[0;34m)\u001b[0m\u001b[0;34m\u001b[0m\u001b[0m\n",
      "\u001b[0;32m/Users/dallan/miniconda/envs/bnl/lib/python3.5/asyncio/tasks.py\u001b[0m in \u001b[0;36m_step\u001b[0;34m(***failed resolving arguments***)\u001b[0m\n\u001b[1;32m    237\u001b[0m                 \u001b[0;31m# We use the `send` method directly, because coroutines\u001b[0m\u001b[0;34m\u001b[0m\u001b[0;34m\u001b[0m\u001b[0m\n\u001b[1;32m    238\u001b[0m                 \u001b[0;31m# don't have `__iter__` and `__next__` methods.\u001b[0m\u001b[0;34m\u001b[0m\u001b[0;34m\u001b[0m\u001b[0m\n\u001b[0;32m--> 239\u001b[0;31m                 \u001b[0mresult\u001b[0m \u001b[0;34m=\u001b[0m \u001b[0mcoro\u001b[0m\u001b[0;34m.\u001b[0m\u001b[0msend\u001b[0m\u001b[0;34m(\u001b[0m\u001b[0;32mNone\u001b[0m\u001b[0;34m)\u001b[0m\u001b[0;34m\u001b[0m\u001b[0m\n\u001b[0m\u001b[1;32m    240\u001b[0m             \u001b[0;32melse\u001b[0m\u001b[0;34m:\u001b[0m\u001b[0;34m\u001b[0m\u001b[0m\n\u001b[1;32m    241\u001b[0m                 \u001b[0mresult\u001b[0m \u001b[0;34m=\u001b[0m \u001b[0mcoro\u001b[0m\u001b[0;34m.\u001b[0m\u001b[0mthrow\u001b[0m\u001b[0;34m(\u001b[0m\u001b[0mexc\u001b[0m\u001b[0;34m)\u001b[0m\u001b[0;34m\u001b[0m\u001b[0m\n",
      "\u001b[0;32m/Users/dallan/Documents/Repos/bluesky/bluesky/run_engine.py\u001b[0m in \u001b[0;36m_run\u001b[0;34m(self)\u001b[0m\n\u001b[1;32m    974\u001b[0m             \u001b[0mself\u001b[0m\u001b[0;34m.\u001b[0m\u001b[0mlog\u001b[0m\u001b[0;34m.\u001b[0m\u001b[0merror\u001b[0m\u001b[0;34m(\u001b[0m\u001b[0;34m\"Run aborted\"\u001b[0m\u001b[0;34m)\u001b[0m\u001b[0;34m\u001b[0m\u001b[0m\n\u001b[1;32m    975\u001b[0m             \u001b[0mself\u001b[0m\u001b[0;34m.\u001b[0m\u001b[0mlog\u001b[0m\u001b[0;34m.\u001b[0m\u001b[0merror\u001b[0m\u001b[0;34m(\u001b[0m\u001b[0;34m\"%r\"\u001b[0m\u001b[0;34m,\u001b[0m \u001b[0merr\u001b[0m\u001b[0;34m)\u001b[0m\u001b[0;34m\u001b[0m\u001b[0m\n\u001b[0;32m--> 976\u001b[0;31m             \u001b[0;32mraise\u001b[0m \u001b[0merr\u001b[0m\u001b[0;34m\u001b[0m\u001b[0m\n\u001b[0m\u001b[1;32m    977\u001b[0m         \u001b[0;32mfinally\u001b[0m\u001b[0;34m:\u001b[0m\u001b[0;34m\u001b[0m\u001b[0m\n\u001b[1;32m    978\u001b[0m             \u001b[0;31m# call stop() on every movable object we ever set()\u001b[0m\u001b[0;34m\u001b[0m\u001b[0;34m\u001b[0m\u001b[0m\n",
      "\u001b[0;32m/Users/dallan/Documents/Repos/bluesky/bluesky/run_engine.py\u001b[0m in \u001b[0;36m_run\u001b[0;34m(self)\u001b[0m\n\u001b[1;32m    872\u001b[0m                         \u001b[0mresp\u001b[0m \u001b[0;34m=\u001b[0m \u001b[0mself\u001b[0m\u001b[0;34m.\u001b[0m\u001b[0m_response_stack\u001b[0m\u001b[0;34m.\u001b[0m\u001b[0mpop\u001b[0m\u001b[0;34m(\u001b[0m\u001b[0;34m)\u001b[0m\u001b[0;34m\u001b[0m\u001b[0m\n\u001b[1;32m    873\u001b[0m                         \u001b[0;32mtry\u001b[0m\u001b[0;34m:\u001b[0m\u001b[0;34m\u001b[0m\u001b[0m\n\u001b[0;32m--> 874\u001b[0;31m                             \u001b[0mmsg\u001b[0m \u001b[0;34m=\u001b[0m \u001b[0mself\u001b[0m\u001b[0;34m.\u001b[0m\u001b[0m_plan_stack\u001b[0m\u001b[0;34m[\u001b[0m\u001b[0;34m-\u001b[0m\u001b[0;36m1\u001b[0m\u001b[0;34m]\u001b[0m\u001b[0;34m.\u001b[0m\u001b[0msend\u001b[0m\u001b[0;34m(\u001b[0m\u001b[0mresp\u001b[0m\u001b[0;34m)\u001b[0m\u001b[0;34m\u001b[0m\u001b[0m\n\u001b[0m\u001b[1;32m    875\u001b[0m                         \u001b[0;31m# We have exhausted the top generator\u001b[0m\u001b[0;34m\u001b[0m\u001b[0;34m\u001b[0m\u001b[0m\n\u001b[1;32m    876\u001b[0m                         \u001b[0;32mexcept\u001b[0m \u001b[0mStopIteration\u001b[0m\u001b[0;34m:\u001b[0m\u001b[0;34m\u001b[0m\u001b[0m\n",
      "\u001b[0;32m<ipython-input-115-1f7f74ec0216>\u001b[0m in \u001b[0;36mproblematic_plan\u001b[0;34m()\u001b[0m\n\u001b[1;32m      2\u001b[0m     \u001b[0;32myield\u001b[0m \u001b[0mMsg\u001b[0m\u001b[0;34m(\u001b[0m\u001b[0;34m'sleep'\u001b[0m\u001b[0;34m,\u001b[0m \u001b[0;32mNone\u001b[0m\u001b[0;34m,\u001b[0m \u001b[0;36m1\u001b[0m\u001b[0;34m)\u001b[0m\u001b[0;34m\u001b[0m\u001b[0m\n\u001b[1;32m      3\u001b[0m     \u001b[0mprint\u001b[0m\u001b[0;34m(\u001b[0m\u001b[0;34m\"ERROR!\"\u001b[0m\u001b[0;34m)\u001b[0m\u001b[0;34m\u001b[0m\u001b[0m\n\u001b[0;32m----> 4\u001b[0;31m     \u001b[0;32mraise\u001b[0m \u001b[0mException\u001b[0m\u001b[0;34m(\u001b[0m\u001b[0;34m\"Problematic!\"\u001b[0m\u001b[0;34m)\u001b[0m\u001b[0;34m\u001b[0m\u001b[0m\n\u001b[0m\u001b[1;32m      5\u001b[0m \u001b[0;34m\u001b[0m\u001b[0m\n\u001b[1;32m      6\u001b[0m \u001b[0mRE\u001b[0m\u001b[0;34m(\u001b[0m\u001b[0mproblematic_plan\u001b[0m\u001b[0;34m(\u001b[0m\u001b[0;34m)\u001b[0m\u001b[0;34m)\u001b[0m\u001b[0;34m\u001b[0m\u001b[0m\n",
      "\u001b[0;31mException\u001b[0m: Problematic!"
     ]
    }
   ],
   "source": [
    "def problematic_plan():\n",
    "    yield Msg('sleep', None, 1)\n",
    "    print(\"ERROR!\")\n",
    "    raise Exception(\"Problematic!\")\n",
    "    \n",
    "RE(problematic_plan())"
   ]
  },
  {
   "cell_type": "code",
   "execution_count": 116,
   "metadata": {
    "collapsed": false,
    "slideshow": {
     "slide_type": "subslide"
    }
   },
   "outputs": [
    {
     "name": "stdout",
     "output_type": "stream",
     "text": [
      "PROCESSING: sleep: (None), (1,), {}\n",
      "ERROR!\n",
      "PROCESSING: sleep: (None), (2,), {}\n",
      "Everything has been made safe.\n"
     ]
    },
    {
     "ename": "Exception",
     "evalue": "Problematic!",
     "output_type": "error",
     "traceback": [
      "\u001b[0;31m------------------------------------------------\u001b[0m",
      "\u001b[0;31mException\u001b[0m      Traceback (most recent call last)",
      "\u001b[0;32m<ipython-input-116-3b2972569ae0>\u001b[0m in \u001b[0;36m<module>\u001b[0;34m()\u001b[0m\n\u001b[1;32m      9\u001b[0m     \u001b[0;32myield\u001b[0m \u001b[0;32mfrom\u001b[0m \u001b[0mfinalize_wrapper\u001b[0m\u001b[0;34m(\u001b[0m\u001b[0mplan\u001b[0m\u001b[0;34m,\u001b[0m \u001b[0mcleanup\u001b[0m\u001b[0;34m(\u001b[0m\u001b[0;34m)\u001b[0m\u001b[0;34m)\u001b[0m\u001b[0;34m\u001b[0m\u001b[0m\n\u001b[1;32m     10\u001b[0m \u001b[0;34m\u001b[0m\u001b[0m\n\u001b[0;32m---> 11\u001b[0;31m \u001b[0mRE\u001b[0m\u001b[0;34m(\u001b[0m\u001b[0mmake_safe\u001b[0m\u001b[0;34m(\u001b[0m\u001b[0mproblematic_plan\u001b[0m\u001b[0;34m(\u001b[0m\u001b[0;34m)\u001b[0m\u001b[0;34m)\u001b[0m\u001b[0;34m)\u001b[0m\u001b[0;34m\u001b[0m\u001b[0m\n\u001b[0m",
      "\u001b[0;32m/Users/dallan/Documents/Repos/bluesky/bluesky/run_engine.py\u001b[0m in \u001b[0;36m__call__\u001b[0;34m(self, plan, subs, raise_if_interrupted, **metadata_kw)\u001b[0m\n\u001b[1;32m    593\u001b[0m                 \u001b[0mexc\u001b[0m \u001b[0;34m=\u001b[0m \u001b[0mself\u001b[0m\u001b[0;34m.\u001b[0m\u001b[0m_task\u001b[0m\u001b[0;34m.\u001b[0m\u001b[0mexception\u001b[0m\u001b[0;34m(\u001b[0m\u001b[0;34m)\u001b[0m\u001b[0;34m\u001b[0m\u001b[0m\n\u001b[1;32m    594\u001b[0m                 \u001b[0;32mif\u001b[0m \u001b[0mexc\u001b[0m \u001b[0;32mis\u001b[0m \u001b[0;32mnot\u001b[0m \u001b[0;32mNone\u001b[0m\u001b[0;34m:\u001b[0m\u001b[0;34m\u001b[0m\u001b[0m\n\u001b[0;32m--> 595\u001b[0;31m                     \u001b[0;32mraise\u001b[0m \u001b[0mexc\u001b[0m\u001b[0;34m\u001b[0m\u001b[0m\n\u001b[0m\u001b[1;32m    596\u001b[0m             \u001b[0;32mif\u001b[0m \u001b[0mraise_if_interrupted\u001b[0m \u001b[0;32mand\u001b[0m \u001b[0mself\u001b[0m\u001b[0;34m.\u001b[0m\u001b[0m_interrupted\u001b[0m\u001b[0;34m:\u001b[0m\u001b[0;34m\u001b[0m\u001b[0m\n\u001b[1;32m    597\u001b[0m                 \u001b[0;32mraise\u001b[0m \u001b[0mRunEngineInterrupted\u001b[0m\u001b[0;34m(\u001b[0m\u001b[0;34m\"RunEngine was interrupted.\"\u001b[0m\u001b[0;34m)\u001b[0m\u001b[0;34m\u001b[0m\u001b[0m\n",
      "\u001b[0;32m/Users/dallan/miniconda/envs/bnl/lib/python3.5/asyncio/tasks.py\u001b[0m in \u001b[0;36m_step\u001b[0;34m(***failed resolving arguments***)\u001b[0m\n\u001b[1;32m    237\u001b[0m                 \u001b[0;31m# We use the `send` method directly, because coroutines\u001b[0m\u001b[0;34m\u001b[0m\u001b[0;34m\u001b[0m\u001b[0m\n\u001b[1;32m    238\u001b[0m                 \u001b[0;31m# don't have `__iter__` and `__next__` methods.\u001b[0m\u001b[0;34m\u001b[0m\u001b[0;34m\u001b[0m\u001b[0m\n\u001b[0;32m--> 239\u001b[0;31m                 \u001b[0mresult\u001b[0m \u001b[0;34m=\u001b[0m \u001b[0mcoro\u001b[0m\u001b[0;34m.\u001b[0m\u001b[0msend\u001b[0m\u001b[0;34m(\u001b[0m\u001b[0;32mNone\u001b[0m\u001b[0;34m)\u001b[0m\u001b[0;34m\u001b[0m\u001b[0m\n\u001b[0m\u001b[1;32m    240\u001b[0m             \u001b[0;32melse\u001b[0m\u001b[0;34m:\u001b[0m\u001b[0;34m\u001b[0m\u001b[0m\n\u001b[1;32m    241\u001b[0m                 \u001b[0mresult\u001b[0m \u001b[0;34m=\u001b[0m \u001b[0mcoro\u001b[0m\u001b[0;34m.\u001b[0m\u001b[0mthrow\u001b[0m\u001b[0;34m(\u001b[0m\u001b[0mexc\u001b[0m\u001b[0;34m)\u001b[0m\u001b[0;34m\u001b[0m\u001b[0m\n",
      "\u001b[0;32m/Users/dallan/Documents/Repos/bluesky/bluesky/run_engine.py\u001b[0m in \u001b[0;36m_run\u001b[0;34m(self)\u001b[0m\n\u001b[1;32m    974\u001b[0m             \u001b[0mself\u001b[0m\u001b[0;34m.\u001b[0m\u001b[0mlog\u001b[0m\u001b[0;34m.\u001b[0m\u001b[0merror\u001b[0m\u001b[0;34m(\u001b[0m\u001b[0;34m\"Run aborted\"\u001b[0m\u001b[0;34m)\u001b[0m\u001b[0;34m\u001b[0m\u001b[0m\n\u001b[1;32m    975\u001b[0m             \u001b[0mself\u001b[0m\u001b[0;34m.\u001b[0m\u001b[0mlog\u001b[0m\u001b[0;34m.\u001b[0m\u001b[0merror\u001b[0m\u001b[0;34m(\u001b[0m\u001b[0;34m\"%r\"\u001b[0m\u001b[0;34m,\u001b[0m \u001b[0merr\u001b[0m\u001b[0;34m)\u001b[0m\u001b[0;34m\u001b[0m\u001b[0m\n\u001b[0;32m--> 976\u001b[0;31m             \u001b[0;32mraise\u001b[0m \u001b[0merr\u001b[0m\u001b[0;34m\u001b[0m\u001b[0m\n\u001b[0m\u001b[1;32m    977\u001b[0m         \u001b[0;32mfinally\u001b[0m\u001b[0;34m:\u001b[0m\u001b[0;34m\u001b[0m\u001b[0m\n\u001b[1;32m    978\u001b[0m             \u001b[0;31m# call stop() on every movable object we ever set()\u001b[0m\u001b[0;34m\u001b[0m\u001b[0;34m\u001b[0m\u001b[0m\n",
      "\u001b[0;32m/Users/dallan/Documents/Repos/bluesky/bluesky/run_engine.py\u001b[0m in \u001b[0;36m_run\u001b[0;34m(self)\u001b[0m\n\u001b[1;32m    872\u001b[0m                         \u001b[0mresp\u001b[0m \u001b[0;34m=\u001b[0m \u001b[0mself\u001b[0m\u001b[0;34m.\u001b[0m\u001b[0m_response_stack\u001b[0m\u001b[0;34m.\u001b[0m\u001b[0mpop\u001b[0m\u001b[0;34m(\u001b[0m\u001b[0;34m)\u001b[0m\u001b[0;34m\u001b[0m\u001b[0m\n\u001b[1;32m    873\u001b[0m                         \u001b[0;32mtry\u001b[0m\u001b[0;34m:\u001b[0m\u001b[0;34m\u001b[0m\u001b[0m\n\u001b[0;32m--> 874\u001b[0;31m                             \u001b[0mmsg\u001b[0m \u001b[0;34m=\u001b[0m \u001b[0mself\u001b[0m\u001b[0;34m.\u001b[0m\u001b[0m_plan_stack\u001b[0m\u001b[0;34m[\u001b[0m\u001b[0;34m-\u001b[0m\u001b[0;36m1\u001b[0m\u001b[0;34m]\u001b[0m\u001b[0;34m.\u001b[0m\u001b[0msend\u001b[0m\u001b[0;34m(\u001b[0m\u001b[0mresp\u001b[0m\u001b[0;34m)\u001b[0m\u001b[0;34m\u001b[0m\u001b[0m\n\u001b[0m\u001b[1;32m    875\u001b[0m                         \u001b[0;31m# We have exhausted the top generator\u001b[0m\u001b[0;34m\u001b[0m\u001b[0;34m\u001b[0m\u001b[0m\n\u001b[1;32m    876\u001b[0m                         \u001b[0;32mexcept\u001b[0m \u001b[0mStopIteration\u001b[0m\u001b[0;34m:\u001b[0m\u001b[0;34m\u001b[0m\u001b[0m\n",
      "\u001b[0;32m<ipython-input-116-3b2972569ae0>\u001b[0m in \u001b[0;36mmake_safe\u001b[0;34m(plan)\u001b[0m\n\u001b[1;32m      7\u001b[0m \u001b[0;34m\u001b[0m\u001b[0m\n\u001b[1;32m      8\u001b[0m \u001b[0;32mdef\u001b[0m \u001b[0mmake_safe\u001b[0m\u001b[0;34m(\u001b[0m\u001b[0mplan\u001b[0m\u001b[0;34m)\u001b[0m\u001b[0;34m:\u001b[0m\u001b[0;34m\u001b[0m\u001b[0m\n\u001b[0;32m----> 9\u001b[0;31m     \u001b[0;32myield\u001b[0m \u001b[0;32mfrom\u001b[0m \u001b[0mfinalize_wrapper\u001b[0m\u001b[0;34m(\u001b[0m\u001b[0mplan\u001b[0m\u001b[0;34m,\u001b[0m \u001b[0mcleanup\u001b[0m\u001b[0;34m(\u001b[0m\u001b[0;34m)\u001b[0m\u001b[0;34m)\u001b[0m\u001b[0;34m\u001b[0m\u001b[0m\n\u001b[0m\u001b[1;32m     10\u001b[0m \u001b[0;34m\u001b[0m\u001b[0m\n\u001b[1;32m     11\u001b[0m \u001b[0mRE\u001b[0m\u001b[0;34m(\u001b[0m\u001b[0mmake_safe\u001b[0m\u001b[0;34m(\u001b[0m\u001b[0mproblematic_plan\u001b[0m\u001b[0;34m(\u001b[0m\u001b[0;34m)\u001b[0m\u001b[0;34m)\u001b[0m\u001b[0;34m)\u001b[0m\u001b[0;34m\u001b[0m\u001b[0m\n",
      "\u001b[0;32m/Users/dallan/Documents/Repos/bluesky/bluesky/plans.py\u001b[0m in \u001b[0;36mfinalize_wrapper\u001b[0;34m(plan, final_plan)\u001b[0m\n\u001b[1;32m    938\u001b[0m     \u001b[0mcleanup\u001b[0m \u001b[0;34m=\u001b[0m \u001b[0;32mTrue\u001b[0m\u001b[0;34m\u001b[0m\u001b[0m\n\u001b[1;32m    939\u001b[0m     \u001b[0;32mtry\u001b[0m\u001b[0;34m:\u001b[0m\u001b[0;34m\u001b[0m\u001b[0m\n\u001b[0;32m--> 940\u001b[0;31m         \u001b[0mret\u001b[0m \u001b[0;34m=\u001b[0m \u001b[0;32myield\u001b[0m \u001b[0;32mfrom\u001b[0m \u001b[0mplan\u001b[0m\u001b[0;34m\u001b[0m\u001b[0m\n\u001b[0m\u001b[1;32m    941\u001b[0m     \u001b[0;32mexcept\u001b[0m \u001b[0mGeneratorExit\u001b[0m\u001b[0;34m:\u001b[0m\u001b[0;34m\u001b[0m\u001b[0m\n\u001b[1;32m    942\u001b[0m         \u001b[0mcleanup\u001b[0m \u001b[0;34m=\u001b[0m \u001b[0;32mFalse\u001b[0m\u001b[0;34m\u001b[0m\u001b[0m\n",
      "\u001b[0;32m<ipython-input-115-1f7f74ec0216>\u001b[0m in \u001b[0;36mproblematic_plan\u001b[0;34m()\u001b[0m\n\u001b[1;32m      2\u001b[0m     \u001b[0;32myield\u001b[0m \u001b[0mMsg\u001b[0m\u001b[0;34m(\u001b[0m\u001b[0;34m'sleep'\u001b[0m\u001b[0;34m,\u001b[0m \u001b[0;32mNone\u001b[0m\u001b[0;34m,\u001b[0m \u001b[0;36m1\u001b[0m\u001b[0;34m)\u001b[0m\u001b[0;34m\u001b[0m\u001b[0m\n\u001b[1;32m      3\u001b[0m     \u001b[0mprint\u001b[0m\u001b[0;34m(\u001b[0m\u001b[0;34m\"ERROR!\"\u001b[0m\u001b[0;34m)\u001b[0m\u001b[0;34m\u001b[0m\u001b[0m\n\u001b[0;32m----> 4\u001b[0;31m     \u001b[0;32mraise\u001b[0m \u001b[0mException\u001b[0m\u001b[0;34m(\u001b[0m\u001b[0;34m\"Problematic!\"\u001b[0m\u001b[0;34m)\u001b[0m\u001b[0;34m\u001b[0m\u001b[0m\n\u001b[0m\u001b[1;32m      5\u001b[0m \u001b[0;34m\u001b[0m\u001b[0m\n\u001b[1;32m      6\u001b[0m \u001b[0mRE\u001b[0m\u001b[0;34m(\u001b[0m\u001b[0mproblematic_plan\u001b[0m\u001b[0;34m(\u001b[0m\u001b[0;34m)\u001b[0m\u001b[0;34m)\u001b[0m\u001b[0;34m\u001b[0m\u001b[0m\n",
      "\u001b[0;31mException\u001b[0m: Problematic!"
     ]
    }
   ],
   "source": [
    "from bluesky.plans import finalize_wrapper\n",
    "\n",
    "def cleanup():\n",
    "    # e.g., move motors back to safe positions.\n",
    "    yield Msg('sleep', None, 2)\n",
    "    print(\"Everything has been made safe.\")\n",
    "    \n",
    "def make_safe(plan):\n",
    "    yield from finalize_wrapper(plan, cleanup())\n",
    "\n",
    "RE(make_safe(problematic_plan()))"
   ]
  },
  {
   "cell_type": "code",
   "execution_count": 117,
   "metadata": {
    "collapsed": false,
    "slideshow": {
     "slide_type": "subslide"
    }
   },
   "outputs": [
    {
     "name": "stdout",
     "output_type": "stream",
     "text": [
      "PROCESSING: sleep: (None), ('a',), {}\n"
     ]
    },
    {
     "ename": "TypeError",
     "evalue": "unsupported operand type(s) for +: 'float' and 'str'",
     "output_type": "error",
     "traceback": [
      "\u001b[0;31m------------------------------------------------\u001b[0m",
      "\u001b[0;31mTypeError\u001b[0m      Traceback (most recent call last)",
      "\u001b[0;32m<ipython-input-117-665035c3b05a>\u001b[0m in \u001b[0;36m<module>\u001b[0;34m()\u001b[0m\n\u001b[1;32m      5\u001b[0m     \u001b[0;32myield\u001b[0m \u001b[0mMsg\u001b[0m\u001b[0;34m(\u001b[0m\u001b[0;34m'sleep'\u001b[0m\u001b[0;34m,\u001b[0m \u001b[0;32mNone\u001b[0m\u001b[0;34m,\u001b[0m \u001b[0;34m'a'\u001b[0m\u001b[0;34m)\u001b[0m\u001b[0;34m\u001b[0m\u001b[0m\n\u001b[1;32m      6\u001b[0m \u001b[0;34m\u001b[0m\u001b[0m\n\u001b[0;32m----> 7\u001b[0;31m \u001b[0mRE\u001b[0m\u001b[0;34m(\u001b[0m\u001b[0mraises_in_RE\u001b[0m\u001b[0;34m(\u001b[0m\u001b[0;34m)\u001b[0m\u001b[0;34m)\u001b[0m\u001b[0;34m\u001b[0m\u001b[0m\n\u001b[0m",
      "\u001b[0;32m/Users/dallan/Documents/Repos/bluesky/bluesky/run_engine.py\u001b[0m in \u001b[0;36m__call__\u001b[0;34m(self, plan, subs, raise_if_interrupted, **metadata_kw)\u001b[0m\n\u001b[1;32m    593\u001b[0m                 \u001b[0mexc\u001b[0m \u001b[0;34m=\u001b[0m \u001b[0mself\u001b[0m\u001b[0;34m.\u001b[0m\u001b[0m_task\u001b[0m\u001b[0;34m.\u001b[0m\u001b[0mexception\u001b[0m\u001b[0;34m(\u001b[0m\u001b[0;34m)\u001b[0m\u001b[0;34m\u001b[0m\u001b[0m\n\u001b[1;32m    594\u001b[0m                 \u001b[0;32mif\u001b[0m \u001b[0mexc\u001b[0m \u001b[0;32mis\u001b[0m \u001b[0;32mnot\u001b[0m \u001b[0;32mNone\u001b[0m\u001b[0;34m:\u001b[0m\u001b[0;34m\u001b[0m\u001b[0m\n\u001b[0;32m--> 595\u001b[0;31m                     \u001b[0;32mraise\u001b[0m \u001b[0mexc\u001b[0m\u001b[0;34m\u001b[0m\u001b[0m\n\u001b[0m\u001b[1;32m    596\u001b[0m             \u001b[0;32mif\u001b[0m \u001b[0mraise_if_interrupted\u001b[0m \u001b[0;32mand\u001b[0m \u001b[0mself\u001b[0m\u001b[0;34m.\u001b[0m\u001b[0m_interrupted\u001b[0m\u001b[0;34m:\u001b[0m\u001b[0;34m\u001b[0m\u001b[0m\n\u001b[1;32m    597\u001b[0m                 \u001b[0;32mraise\u001b[0m \u001b[0mRunEngineInterrupted\u001b[0m\u001b[0;34m(\u001b[0m\u001b[0;34m\"RunEngine was interrupted.\"\u001b[0m\u001b[0;34m)\u001b[0m\u001b[0;34m\u001b[0m\u001b[0m\n",
      "\u001b[0;32m/Users/dallan/miniconda/envs/bnl/lib/python3.5/asyncio/tasks.py\u001b[0m in \u001b[0;36m_step\u001b[0;34m(***failed resolving arguments***)\u001b[0m\n\u001b[1;32m    237\u001b[0m                 \u001b[0;31m# We use the `send` method directly, because coroutines\u001b[0m\u001b[0;34m\u001b[0m\u001b[0;34m\u001b[0m\u001b[0m\n\u001b[1;32m    238\u001b[0m                 \u001b[0;31m# don't have `__iter__` and `__next__` methods.\u001b[0m\u001b[0;34m\u001b[0m\u001b[0;34m\u001b[0m\u001b[0m\n\u001b[0;32m--> 239\u001b[0;31m                 \u001b[0mresult\u001b[0m \u001b[0;34m=\u001b[0m \u001b[0mcoro\u001b[0m\u001b[0;34m.\u001b[0m\u001b[0msend\u001b[0m\u001b[0;34m(\u001b[0m\u001b[0;32mNone\u001b[0m\u001b[0;34m)\u001b[0m\u001b[0;34m\u001b[0m\u001b[0m\n\u001b[0m\u001b[1;32m    240\u001b[0m             \u001b[0;32melse\u001b[0m\u001b[0;34m:\u001b[0m\u001b[0;34m\u001b[0m\u001b[0m\n\u001b[1;32m    241\u001b[0m                 \u001b[0mresult\u001b[0m \u001b[0;34m=\u001b[0m \u001b[0mcoro\u001b[0m\u001b[0;34m.\u001b[0m\u001b[0mthrow\u001b[0m\u001b[0;34m(\u001b[0m\u001b[0mexc\u001b[0m\u001b[0;34m)\u001b[0m\u001b[0;34m\u001b[0m\u001b[0m\n",
      "\u001b[0;32m/Users/dallan/Documents/Repos/bluesky/bluesky/run_engine.py\u001b[0m in \u001b[0;36m_run\u001b[0;34m(self)\u001b[0m\n\u001b[1;32m    974\u001b[0m             \u001b[0mself\u001b[0m\u001b[0;34m.\u001b[0m\u001b[0mlog\u001b[0m\u001b[0;34m.\u001b[0m\u001b[0merror\u001b[0m\u001b[0;34m(\u001b[0m\u001b[0;34m\"Run aborted\"\u001b[0m\u001b[0;34m)\u001b[0m\u001b[0;34m\u001b[0m\u001b[0m\n\u001b[1;32m    975\u001b[0m             \u001b[0mself\u001b[0m\u001b[0;34m.\u001b[0m\u001b[0mlog\u001b[0m\u001b[0;34m.\u001b[0m\u001b[0merror\u001b[0m\u001b[0;34m(\u001b[0m\u001b[0;34m\"%r\"\u001b[0m\u001b[0;34m,\u001b[0m \u001b[0merr\u001b[0m\u001b[0;34m)\u001b[0m\u001b[0;34m\u001b[0m\u001b[0m\n\u001b[0;32m--> 976\u001b[0;31m             \u001b[0;32mraise\u001b[0m \u001b[0merr\u001b[0m\u001b[0;34m\u001b[0m\u001b[0m\n\u001b[0m\u001b[1;32m    977\u001b[0m         \u001b[0;32mfinally\u001b[0m\u001b[0;34m:\u001b[0m\u001b[0;34m\u001b[0m\u001b[0m\n\u001b[1;32m    978\u001b[0m             \u001b[0;31m# call stop() on every movable object we ever set()\u001b[0m\u001b[0;34m\u001b[0m\u001b[0;34m\u001b[0m\u001b[0m\n",
      "\u001b[0;32m/Users/dallan/Documents/Repos/bluesky/bluesky/run_engine.py\u001b[0m in \u001b[0;36m_run\u001b[0;34m(self)\u001b[0m\n\u001b[1;32m    851\u001b[0m                         \u001b[0;32mtry\u001b[0m\u001b[0;34m:\u001b[0m\u001b[0;34m\u001b[0m\u001b[0m\n\u001b[1;32m    852\u001b[0m                             msg = self._plan_stack[-1].throw(\n\u001b[0;32m--> 853\u001b[0;31m                                 self._exception)\n\u001b[0m\u001b[1;32m    854\u001b[0m                         \u001b[0;32mexcept\u001b[0m \u001b[0mException\u001b[0m \u001b[0;32mas\u001b[0m \u001b[0me\u001b[0m\u001b[0;34m:\u001b[0m\u001b[0;34m\u001b[0m\u001b[0m\n\u001b[1;32m    855\u001b[0m                             \u001b[0;31m# The current plan did not handle it,\u001b[0m\u001b[0;34m\u001b[0m\u001b[0;34m\u001b[0m\u001b[0m\n",
      "\u001b[0;32m<ipython-input-117-665035c3b05a>\u001b[0m in \u001b[0;36mraises_in_RE\u001b[0;34m()\u001b[0m\n\u001b[1;32m      3\u001b[0m \u001b[0;32mdef\u001b[0m \u001b[0mraises_in_RE\u001b[0m\u001b[0;34m(\u001b[0m\u001b[0;34m)\u001b[0m\u001b[0;34m:\u001b[0m\u001b[0;34m\u001b[0m\u001b[0m\n\u001b[1;32m      4\u001b[0m     \u001b[0;34m\"will cause an error inside _sleep() coroutine\"\u001b[0m\u001b[0;34m\u001b[0m\u001b[0m\n\u001b[0;32m----> 5\u001b[0;31m     \u001b[0;32myield\u001b[0m \u001b[0mMsg\u001b[0m\u001b[0;34m(\u001b[0m\u001b[0;34m'sleep'\u001b[0m\u001b[0;34m,\u001b[0m \u001b[0;32mNone\u001b[0m\u001b[0;34m,\u001b[0m \u001b[0;34m'a'\u001b[0m\u001b[0;34m)\u001b[0m\u001b[0;34m\u001b[0m\u001b[0m\n\u001b[0m\u001b[1;32m      6\u001b[0m \u001b[0;34m\u001b[0m\u001b[0m\n\u001b[1;32m      7\u001b[0m \u001b[0mRE\u001b[0m\u001b[0;34m(\u001b[0m\u001b[0mraises_in_RE\u001b[0m\u001b[0;34m(\u001b[0m\u001b[0;34m)\u001b[0m\u001b[0;34m)\u001b[0m\u001b[0;34m\u001b[0m\u001b[0m\n",
      "\u001b[0;32m/Users/dallan/Documents/Repos/bluesky/bluesky/run_engine.py\u001b[0m in \u001b[0;36m_run\u001b[0;34m(self)\u001b[0m\n\u001b[1;32m    923\u001b[0m                         \u001b[0;31m# exceptions (coming in via throw) can be\u001b[0m\u001b[0;34m\u001b[0m\u001b[0;34m\u001b[0m\u001b[0m\n\u001b[1;32m    924\u001b[0m                         \u001b[0;31m# raised\u001b[0m\u001b[0;34m\u001b[0m\u001b[0;34m\u001b[0m\u001b[0m\n\u001b[0;32m--> 925\u001b[0;31m                         \u001b[0mresponse\u001b[0m \u001b[0;34m=\u001b[0m \u001b[0;32myield\u001b[0m \u001b[0;32mfrom\u001b[0m \u001b[0mcoro\u001b[0m\u001b[0;34m(\u001b[0m\u001b[0mmsg\u001b[0m\u001b[0;34m)\u001b[0m\u001b[0;34m\u001b[0m\u001b[0m\n\u001b[0m\u001b[1;32m    926\u001b[0m                     \u001b[0;31m# special case `CancelledError` and let the outer\u001b[0m\u001b[0;34m\u001b[0m\u001b[0;34m\u001b[0m\u001b[0m\n\u001b[1;32m    927\u001b[0m                     \u001b[0;31m# exception block deal with it.\u001b[0m\u001b[0;34m\u001b[0m\u001b[0;34m\u001b[0m\u001b[0m\n",
      "\u001b[0;32m/Users/dallan/Documents/Repos/bluesky/bluesky/run_engine.py\u001b[0m in \u001b[0;36m_sleep\u001b[0;34m(self, msg)\u001b[0m\n\u001b[1;32m   1719\u001b[0m         \u001b[0mwhere\u001b[0m\u001b[0;31m \u001b[0m\u001b[0;31m`\u001b[0m\u001b[0msleep_time\u001b[0m\u001b[0;31m`\u001b[0m \u001b[0;32mis\u001b[0m \u001b[0;32min\u001b[0m \u001b[0mseconds\u001b[0m\u001b[0;34m\u001b[0m\u001b[0m\n\u001b[1;32m   1720\u001b[0m         \"\"\"\n\u001b[0;32m-> 1721\u001b[0;31m         \u001b[0;32myield\u001b[0m \u001b[0;32mfrom\u001b[0m \u001b[0masyncio\u001b[0m\u001b[0;34m.\u001b[0m\u001b[0msleep\u001b[0m\u001b[0;34m(\u001b[0m\u001b[0;34m*\u001b[0m\u001b[0mmsg\u001b[0m\u001b[0;34m.\u001b[0m\u001b[0margs\u001b[0m\u001b[0;34m,\u001b[0m \u001b[0mloop\u001b[0m\u001b[0;34m=\u001b[0m\u001b[0mself\u001b[0m\u001b[0;34m.\u001b[0m\u001b[0mloop\u001b[0m\u001b[0;34m)\u001b[0m\u001b[0;34m\u001b[0m\u001b[0m\n\u001b[0m\u001b[1;32m   1722\u001b[0m \u001b[0;34m\u001b[0m\u001b[0m\n\u001b[1;32m   1723\u001b[0m     \u001b[0;34m@\u001b[0m\u001b[0masyncio\u001b[0m\u001b[0;34m.\u001b[0m\u001b[0mcoroutine\u001b[0m\u001b[0;34m\u001b[0m\u001b[0m\n",
      "\u001b[0;32m/Users/dallan/miniconda/envs/bnl/lib/python3.5/asyncio/tasks.py\u001b[0m in \u001b[0;36msleep\u001b[0;34m(delay, result, loop)\u001b[0m\n\u001b[1;32m    512\u001b[0m     h = future._loop.call_later(delay,\n\u001b[1;32m    513\u001b[0m                                 \u001b[0mfutures\u001b[0m\u001b[0;34m.\u001b[0m\u001b[0m_set_result_unless_cancelled\u001b[0m\u001b[0;34m,\u001b[0m\u001b[0;34m\u001b[0m\u001b[0m\n\u001b[0;32m--> 514\u001b[0;31m                                 future, result)\n\u001b[0m\u001b[1;32m    515\u001b[0m     \u001b[0;32mtry\u001b[0m\u001b[0;34m:\u001b[0m\u001b[0;34m\u001b[0m\u001b[0m\n\u001b[1;32m    516\u001b[0m         \u001b[0;32mreturn\u001b[0m \u001b[0;34m(\u001b[0m\u001b[0;32myield\u001b[0m \u001b[0;32mfrom\u001b[0m \u001b[0mfuture\u001b[0m\u001b[0;34m)\u001b[0m\u001b[0;34m\u001b[0m\u001b[0m\n",
      "\u001b[0;32m/Users/dallan/miniconda/envs/bnl/lib/python3.5/asyncio/base_events.py\u001b[0m in \u001b[0;36mcall_later\u001b[0;34m(self, delay, callback, *args)\u001b[0m\n\u001b[1;32m    460\u001b[0m         \u001b[0mthe\u001b[0m \u001b[0mcallback\u001b[0m \u001b[0mwhen\u001b[0m \u001b[0mit\u001b[0m \u001b[0;32mis\u001b[0m \u001b[0mcalled\u001b[0m\u001b[0;34m.\u001b[0m\u001b[0;34m\u001b[0m\u001b[0m\n\u001b[1;32m    461\u001b[0m         \"\"\"\n\u001b[0;32m--> 462\u001b[0;31m         \u001b[0mtimer\u001b[0m \u001b[0;34m=\u001b[0m \u001b[0mself\u001b[0m\u001b[0;34m.\u001b[0m\u001b[0mcall_at\u001b[0m\u001b[0;34m(\u001b[0m\u001b[0mself\u001b[0m\u001b[0;34m.\u001b[0m\u001b[0mtime\u001b[0m\u001b[0;34m(\u001b[0m\u001b[0;34m)\u001b[0m \u001b[0;34m+\u001b[0m \u001b[0mdelay\u001b[0m\u001b[0;34m,\u001b[0m \u001b[0mcallback\u001b[0m\u001b[0;34m,\u001b[0m \u001b[0;34m*\u001b[0m\u001b[0margs\u001b[0m\u001b[0;34m)\u001b[0m\u001b[0;34m\u001b[0m\u001b[0m\n\u001b[0m\u001b[1;32m    463\u001b[0m         \u001b[0;32mif\u001b[0m \u001b[0mtimer\u001b[0m\u001b[0;34m.\u001b[0m\u001b[0m_source_traceback\u001b[0m\u001b[0;34m:\u001b[0m\u001b[0;34m\u001b[0m\u001b[0m\n\u001b[1;32m    464\u001b[0m             \u001b[0;32mdel\u001b[0m \u001b[0mtimer\u001b[0m\u001b[0;34m.\u001b[0m\u001b[0m_source_traceback\u001b[0m\u001b[0;34m[\u001b[0m\u001b[0;34m-\u001b[0m\u001b[0;36m1\u001b[0m\u001b[0;34m]\u001b[0m\u001b[0;34m\u001b[0m\u001b[0m\n",
      "\u001b[0;31mTypeError\u001b[0m: unsupported operand type(s) for +: 'float' and 'str'"
     ]
    }
   ],
   "source": [
    "from bluesky.plans import finalize_wrapper\n",
    "    \n",
    "def raises_in_RE():\n",
    "    \"will cause an error inside _sleep() coroutine\"\n",
    "    yield Msg('sleep', None, 'a')\n",
    "    \n",
    "RE(raises_in_RE())"
   ]
  },
  {
   "cell_type": "code",
   "execution_count": 118,
   "metadata": {
    "collapsed": false,
    "slideshow": {
     "slide_type": "subslide"
    }
   },
   "outputs": [
    {
     "name": "stdout",
     "output_type": "stream",
     "text": [
      "PROCESSING: sleep: (None), ('a',), {}\n",
      "PROCESSING: sleep: (None), (2,), {}\n",
      "Everything has been made safe.\n"
     ]
    },
    {
     "ename": "TypeError",
     "evalue": "unsupported operand type(s) for +: 'float' and 'str'",
     "output_type": "error",
     "traceback": [
      "\u001b[0;31m------------------------------------------------\u001b[0m",
      "\u001b[0;31mTypeError\u001b[0m      Traceback (most recent call last)",
      "\u001b[0;32m<ipython-input-118-314f59862a2f>\u001b[0m in \u001b[0;36m<module>\u001b[0;34m()\u001b[0m\n\u001b[0;32m----> 1\u001b[0;31m \u001b[0mRE\u001b[0m\u001b[0;34m(\u001b[0m\u001b[0mmake_safe\u001b[0m\u001b[0;34m(\u001b[0m\u001b[0mraises_in_RE\u001b[0m\u001b[0;34m(\u001b[0m\u001b[0;34m)\u001b[0m\u001b[0;34m)\u001b[0m\u001b[0;34m)\u001b[0m\u001b[0;34m\u001b[0m\u001b[0m\n\u001b[0m",
      "\u001b[0;32m/Users/dallan/Documents/Repos/bluesky/bluesky/run_engine.py\u001b[0m in \u001b[0;36m__call__\u001b[0;34m(self, plan, subs, raise_if_interrupted, **metadata_kw)\u001b[0m\n\u001b[1;32m    593\u001b[0m                 \u001b[0mexc\u001b[0m \u001b[0;34m=\u001b[0m \u001b[0mself\u001b[0m\u001b[0;34m.\u001b[0m\u001b[0m_task\u001b[0m\u001b[0;34m.\u001b[0m\u001b[0mexception\u001b[0m\u001b[0;34m(\u001b[0m\u001b[0;34m)\u001b[0m\u001b[0;34m\u001b[0m\u001b[0m\n\u001b[1;32m    594\u001b[0m                 \u001b[0;32mif\u001b[0m \u001b[0mexc\u001b[0m \u001b[0;32mis\u001b[0m \u001b[0;32mnot\u001b[0m \u001b[0;32mNone\u001b[0m\u001b[0;34m:\u001b[0m\u001b[0;34m\u001b[0m\u001b[0m\n\u001b[0;32m--> 595\u001b[0;31m                     \u001b[0;32mraise\u001b[0m \u001b[0mexc\u001b[0m\u001b[0;34m\u001b[0m\u001b[0m\n\u001b[0m\u001b[1;32m    596\u001b[0m             \u001b[0;32mif\u001b[0m \u001b[0mraise_if_interrupted\u001b[0m \u001b[0;32mand\u001b[0m \u001b[0mself\u001b[0m\u001b[0;34m.\u001b[0m\u001b[0m_interrupted\u001b[0m\u001b[0;34m:\u001b[0m\u001b[0;34m\u001b[0m\u001b[0m\n\u001b[1;32m    597\u001b[0m                 \u001b[0;32mraise\u001b[0m \u001b[0mRunEngineInterrupted\u001b[0m\u001b[0;34m(\u001b[0m\u001b[0;34m\"RunEngine was interrupted.\"\u001b[0m\u001b[0;34m)\u001b[0m\u001b[0;34m\u001b[0m\u001b[0m\n",
      "\u001b[0;32m/Users/dallan/miniconda/envs/bnl/lib/python3.5/asyncio/tasks.py\u001b[0m in \u001b[0;36m_step\u001b[0;34m(***failed resolving arguments***)\u001b[0m\n\u001b[1;32m    237\u001b[0m                 \u001b[0;31m# We use the `send` method directly, because coroutines\u001b[0m\u001b[0;34m\u001b[0m\u001b[0;34m\u001b[0m\u001b[0m\n\u001b[1;32m    238\u001b[0m                 \u001b[0;31m# don't have `__iter__` and `__next__` methods.\u001b[0m\u001b[0;34m\u001b[0m\u001b[0;34m\u001b[0m\u001b[0m\n\u001b[0;32m--> 239\u001b[0;31m                 \u001b[0mresult\u001b[0m \u001b[0;34m=\u001b[0m \u001b[0mcoro\u001b[0m\u001b[0;34m.\u001b[0m\u001b[0msend\u001b[0m\u001b[0;34m(\u001b[0m\u001b[0;32mNone\u001b[0m\u001b[0;34m)\u001b[0m\u001b[0;34m\u001b[0m\u001b[0m\n\u001b[0m\u001b[1;32m    240\u001b[0m             \u001b[0;32melse\u001b[0m\u001b[0;34m:\u001b[0m\u001b[0;34m\u001b[0m\u001b[0m\n\u001b[1;32m    241\u001b[0m                 \u001b[0mresult\u001b[0m \u001b[0;34m=\u001b[0m \u001b[0mcoro\u001b[0m\u001b[0;34m.\u001b[0m\u001b[0mthrow\u001b[0m\u001b[0;34m(\u001b[0m\u001b[0mexc\u001b[0m\u001b[0;34m)\u001b[0m\u001b[0;34m\u001b[0m\u001b[0m\n",
      "\u001b[0;32m/Users/dallan/Documents/Repos/bluesky/bluesky/run_engine.py\u001b[0m in \u001b[0;36m_run\u001b[0;34m(self)\u001b[0m\n\u001b[1;32m    974\u001b[0m             \u001b[0mself\u001b[0m\u001b[0;34m.\u001b[0m\u001b[0mlog\u001b[0m\u001b[0;34m.\u001b[0m\u001b[0merror\u001b[0m\u001b[0;34m(\u001b[0m\u001b[0;34m\"Run aborted\"\u001b[0m\u001b[0;34m)\u001b[0m\u001b[0;34m\u001b[0m\u001b[0m\n\u001b[1;32m    975\u001b[0m             \u001b[0mself\u001b[0m\u001b[0;34m.\u001b[0m\u001b[0mlog\u001b[0m\u001b[0;34m.\u001b[0m\u001b[0merror\u001b[0m\u001b[0;34m(\u001b[0m\u001b[0;34m\"%r\"\u001b[0m\u001b[0;34m,\u001b[0m \u001b[0merr\u001b[0m\u001b[0;34m)\u001b[0m\u001b[0;34m\u001b[0m\u001b[0m\n\u001b[0;32m--> 976\u001b[0;31m             \u001b[0;32mraise\u001b[0m \u001b[0merr\u001b[0m\u001b[0;34m\u001b[0m\u001b[0m\n\u001b[0m\u001b[1;32m    977\u001b[0m         \u001b[0;32mfinally\u001b[0m\u001b[0;34m:\u001b[0m\u001b[0;34m\u001b[0m\u001b[0m\n\u001b[1;32m    978\u001b[0m             \u001b[0;31m# call stop() on every movable object we ever set()\u001b[0m\u001b[0;34m\u001b[0m\u001b[0;34m\u001b[0m\u001b[0m\n",
      "\u001b[0;32m/Users/dallan/Documents/Repos/bluesky/bluesky/run_engine.py\u001b[0m in \u001b[0;36m_run\u001b[0;34m(self)\u001b[0m\n\u001b[1;32m    872\u001b[0m                         \u001b[0mresp\u001b[0m \u001b[0;34m=\u001b[0m \u001b[0mself\u001b[0m\u001b[0;34m.\u001b[0m\u001b[0m_response_stack\u001b[0m\u001b[0;34m.\u001b[0m\u001b[0mpop\u001b[0m\u001b[0;34m(\u001b[0m\u001b[0;34m)\u001b[0m\u001b[0;34m\u001b[0m\u001b[0m\n\u001b[1;32m    873\u001b[0m                         \u001b[0;32mtry\u001b[0m\u001b[0;34m:\u001b[0m\u001b[0;34m\u001b[0m\u001b[0m\n\u001b[0;32m--> 874\u001b[0;31m                             \u001b[0mmsg\u001b[0m \u001b[0;34m=\u001b[0m \u001b[0mself\u001b[0m\u001b[0;34m.\u001b[0m\u001b[0m_plan_stack\u001b[0m\u001b[0;34m[\u001b[0m\u001b[0;34m-\u001b[0m\u001b[0;36m1\u001b[0m\u001b[0;34m]\u001b[0m\u001b[0;34m.\u001b[0m\u001b[0msend\u001b[0m\u001b[0;34m(\u001b[0m\u001b[0mresp\u001b[0m\u001b[0;34m)\u001b[0m\u001b[0;34m\u001b[0m\u001b[0m\n\u001b[0m\u001b[1;32m    875\u001b[0m                         \u001b[0;31m# We have exhausted the top generator\u001b[0m\u001b[0;34m\u001b[0m\u001b[0;34m\u001b[0m\u001b[0m\n\u001b[1;32m    876\u001b[0m                         \u001b[0;32mexcept\u001b[0m \u001b[0mStopIteration\u001b[0m\u001b[0;34m:\u001b[0m\u001b[0;34m\u001b[0m\u001b[0m\n",
      "\u001b[0;32m<ipython-input-116-3b2972569ae0>\u001b[0m in \u001b[0;36mmake_safe\u001b[0;34m(plan)\u001b[0m\n\u001b[1;32m      7\u001b[0m \u001b[0;34m\u001b[0m\u001b[0m\n\u001b[1;32m      8\u001b[0m \u001b[0;32mdef\u001b[0m \u001b[0mmake_safe\u001b[0m\u001b[0;34m(\u001b[0m\u001b[0mplan\u001b[0m\u001b[0;34m)\u001b[0m\u001b[0;34m:\u001b[0m\u001b[0;34m\u001b[0m\u001b[0m\n\u001b[0;32m----> 9\u001b[0;31m     \u001b[0;32myield\u001b[0m \u001b[0;32mfrom\u001b[0m \u001b[0mfinalize_wrapper\u001b[0m\u001b[0;34m(\u001b[0m\u001b[0mplan\u001b[0m\u001b[0;34m,\u001b[0m \u001b[0mcleanup\u001b[0m\u001b[0;34m(\u001b[0m\u001b[0;34m)\u001b[0m\u001b[0;34m)\u001b[0m\u001b[0;34m\u001b[0m\u001b[0m\n\u001b[0m\u001b[1;32m     10\u001b[0m \u001b[0;34m\u001b[0m\u001b[0m\n\u001b[1;32m     11\u001b[0m \u001b[0mRE\u001b[0m\u001b[0;34m(\u001b[0m\u001b[0mmake_safe\u001b[0m\u001b[0;34m(\u001b[0m\u001b[0mproblematic_plan\u001b[0m\u001b[0;34m(\u001b[0m\u001b[0;34m)\u001b[0m\u001b[0;34m)\u001b[0m\u001b[0;34m)\u001b[0m\u001b[0;34m\u001b[0m\u001b[0m\n",
      "\u001b[0;32m/Users/dallan/Documents/Repos/bluesky/bluesky/plans.py\u001b[0m in \u001b[0;36mfinalize_wrapper\u001b[0;34m(plan, final_plan)\u001b[0m\n\u001b[1;32m    938\u001b[0m     \u001b[0mcleanup\u001b[0m \u001b[0;34m=\u001b[0m \u001b[0;32mTrue\u001b[0m\u001b[0;34m\u001b[0m\u001b[0m\n\u001b[1;32m    939\u001b[0m     \u001b[0;32mtry\u001b[0m\u001b[0;34m:\u001b[0m\u001b[0;34m\u001b[0m\u001b[0m\n\u001b[0;32m--> 940\u001b[0;31m         \u001b[0mret\u001b[0m \u001b[0;34m=\u001b[0m \u001b[0;32myield\u001b[0m \u001b[0;32mfrom\u001b[0m \u001b[0mplan\u001b[0m\u001b[0;34m\u001b[0m\u001b[0m\n\u001b[0m\u001b[1;32m    941\u001b[0m     \u001b[0;32mexcept\u001b[0m \u001b[0mGeneratorExit\u001b[0m\u001b[0;34m:\u001b[0m\u001b[0;34m\u001b[0m\u001b[0m\n\u001b[1;32m    942\u001b[0m         \u001b[0mcleanup\u001b[0m \u001b[0;34m=\u001b[0m \u001b[0;32mFalse\u001b[0m\u001b[0;34m\u001b[0m\u001b[0m\n",
      "\u001b[0;32m<ipython-input-117-665035c3b05a>\u001b[0m in \u001b[0;36mraises_in_RE\u001b[0;34m()\u001b[0m\n\u001b[1;32m      3\u001b[0m \u001b[0;32mdef\u001b[0m \u001b[0mraises_in_RE\u001b[0m\u001b[0;34m(\u001b[0m\u001b[0;34m)\u001b[0m\u001b[0;34m:\u001b[0m\u001b[0;34m\u001b[0m\u001b[0m\n\u001b[1;32m      4\u001b[0m     \u001b[0;34m\"will cause an error inside _sleep() coroutine\"\u001b[0m\u001b[0;34m\u001b[0m\u001b[0m\n\u001b[0;32m----> 5\u001b[0;31m     \u001b[0;32myield\u001b[0m \u001b[0mMsg\u001b[0m\u001b[0;34m(\u001b[0m\u001b[0;34m'sleep'\u001b[0m\u001b[0;34m,\u001b[0m \u001b[0;32mNone\u001b[0m\u001b[0;34m,\u001b[0m \u001b[0;34m'a'\u001b[0m\u001b[0;34m)\u001b[0m\u001b[0;34m\u001b[0m\u001b[0m\n\u001b[0m\u001b[1;32m      6\u001b[0m \u001b[0;34m\u001b[0m\u001b[0m\n\u001b[1;32m      7\u001b[0m \u001b[0mRE\u001b[0m\u001b[0;34m(\u001b[0m\u001b[0mraises_in_RE\u001b[0m\u001b[0;34m(\u001b[0m\u001b[0;34m)\u001b[0m\u001b[0;34m)\u001b[0m\u001b[0;34m\u001b[0m\u001b[0m\n",
      "\u001b[0;32m/Users/dallan/Documents/Repos/bluesky/bluesky/run_engine.py\u001b[0m in \u001b[0;36m_run\u001b[0;34m(self)\u001b[0m\n\u001b[1;32m    923\u001b[0m                         \u001b[0;31m# exceptions (coming in via throw) can be\u001b[0m\u001b[0;34m\u001b[0m\u001b[0;34m\u001b[0m\u001b[0m\n\u001b[1;32m    924\u001b[0m                         \u001b[0;31m# raised\u001b[0m\u001b[0;34m\u001b[0m\u001b[0;34m\u001b[0m\u001b[0m\n\u001b[0;32m--> 925\u001b[0;31m                         \u001b[0mresponse\u001b[0m \u001b[0;34m=\u001b[0m \u001b[0;32myield\u001b[0m \u001b[0;32mfrom\u001b[0m \u001b[0mcoro\u001b[0m\u001b[0;34m(\u001b[0m\u001b[0mmsg\u001b[0m\u001b[0;34m)\u001b[0m\u001b[0;34m\u001b[0m\u001b[0m\n\u001b[0m\u001b[1;32m    926\u001b[0m                     \u001b[0;31m# special case `CancelledError` and let the outer\u001b[0m\u001b[0;34m\u001b[0m\u001b[0;34m\u001b[0m\u001b[0m\n\u001b[1;32m    927\u001b[0m                     \u001b[0;31m# exception block deal with it.\u001b[0m\u001b[0;34m\u001b[0m\u001b[0;34m\u001b[0m\u001b[0m\n",
      "\u001b[0;32m/Users/dallan/Documents/Repos/bluesky/bluesky/run_engine.py\u001b[0m in \u001b[0;36m_sleep\u001b[0;34m(self, msg)\u001b[0m\n\u001b[1;32m   1719\u001b[0m         \u001b[0mwhere\u001b[0m\u001b[0;31m \u001b[0m\u001b[0;31m`\u001b[0m\u001b[0msleep_time\u001b[0m\u001b[0;31m`\u001b[0m \u001b[0;32mis\u001b[0m \u001b[0;32min\u001b[0m \u001b[0mseconds\u001b[0m\u001b[0;34m\u001b[0m\u001b[0m\n\u001b[1;32m   1720\u001b[0m         \"\"\"\n\u001b[0;32m-> 1721\u001b[0;31m         \u001b[0;32myield\u001b[0m \u001b[0;32mfrom\u001b[0m \u001b[0masyncio\u001b[0m\u001b[0;34m.\u001b[0m\u001b[0msleep\u001b[0m\u001b[0;34m(\u001b[0m\u001b[0;34m*\u001b[0m\u001b[0mmsg\u001b[0m\u001b[0;34m.\u001b[0m\u001b[0margs\u001b[0m\u001b[0;34m,\u001b[0m \u001b[0mloop\u001b[0m\u001b[0;34m=\u001b[0m\u001b[0mself\u001b[0m\u001b[0;34m.\u001b[0m\u001b[0mloop\u001b[0m\u001b[0;34m)\u001b[0m\u001b[0;34m\u001b[0m\u001b[0m\n\u001b[0m\u001b[1;32m   1722\u001b[0m \u001b[0;34m\u001b[0m\u001b[0m\n\u001b[1;32m   1723\u001b[0m     \u001b[0;34m@\u001b[0m\u001b[0masyncio\u001b[0m\u001b[0;34m.\u001b[0m\u001b[0mcoroutine\u001b[0m\u001b[0;34m\u001b[0m\u001b[0m\n",
      "\u001b[0;32m/Users/dallan/miniconda/envs/bnl/lib/python3.5/asyncio/tasks.py\u001b[0m in \u001b[0;36msleep\u001b[0;34m(delay, result, loop)\u001b[0m\n\u001b[1;32m    512\u001b[0m     h = future._loop.call_later(delay,\n\u001b[1;32m    513\u001b[0m                                 \u001b[0mfutures\u001b[0m\u001b[0;34m.\u001b[0m\u001b[0m_set_result_unless_cancelled\u001b[0m\u001b[0;34m,\u001b[0m\u001b[0;34m\u001b[0m\u001b[0m\n\u001b[0;32m--> 514\u001b[0;31m                                 future, result)\n\u001b[0m\u001b[1;32m    515\u001b[0m     \u001b[0;32mtry\u001b[0m\u001b[0;34m:\u001b[0m\u001b[0;34m\u001b[0m\u001b[0m\n\u001b[1;32m    516\u001b[0m         \u001b[0;32mreturn\u001b[0m \u001b[0;34m(\u001b[0m\u001b[0;32myield\u001b[0m \u001b[0;32mfrom\u001b[0m \u001b[0mfuture\u001b[0m\u001b[0;34m)\u001b[0m\u001b[0;34m\u001b[0m\u001b[0m\n",
      "\u001b[0;32m/Users/dallan/miniconda/envs/bnl/lib/python3.5/asyncio/base_events.py\u001b[0m in \u001b[0;36mcall_later\u001b[0;34m(self, delay, callback, *args)\u001b[0m\n\u001b[1;32m    460\u001b[0m         \u001b[0mthe\u001b[0m \u001b[0mcallback\u001b[0m \u001b[0mwhen\u001b[0m \u001b[0mit\u001b[0m \u001b[0;32mis\u001b[0m \u001b[0mcalled\u001b[0m\u001b[0;34m.\u001b[0m\u001b[0;34m\u001b[0m\u001b[0m\n\u001b[1;32m    461\u001b[0m         \"\"\"\n\u001b[0;32m--> 462\u001b[0;31m         \u001b[0mtimer\u001b[0m \u001b[0;34m=\u001b[0m \u001b[0mself\u001b[0m\u001b[0;34m.\u001b[0m\u001b[0mcall_at\u001b[0m\u001b[0;34m(\u001b[0m\u001b[0mself\u001b[0m\u001b[0;34m.\u001b[0m\u001b[0mtime\u001b[0m\u001b[0;34m(\u001b[0m\u001b[0;34m)\u001b[0m \u001b[0;34m+\u001b[0m \u001b[0mdelay\u001b[0m\u001b[0;34m,\u001b[0m \u001b[0mcallback\u001b[0m\u001b[0;34m,\u001b[0m \u001b[0;34m*\u001b[0m\u001b[0margs\u001b[0m\u001b[0;34m)\u001b[0m\u001b[0;34m\u001b[0m\u001b[0m\n\u001b[0m\u001b[1;32m    463\u001b[0m         \u001b[0;32mif\u001b[0m \u001b[0mtimer\u001b[0m\u001b[0;34m.\u001b[0m\u001b[0m_source_traceback\u001b[0m\u001b[0;34m:\u001b[0m\u001b[0;34m\u001b[0m\u001b[0m\n\u001b[1;32m    464\u001b[0m             \u001b[0;32mdel\u001b[0m \u001b[0mtimer\u001b[0m\u001b[0;34m.\u001b[0m\u001b[0m_source_traceback\u001b[0m\u001b[0;34m[\u001b[0m\u001b[0;34m-\u001b[0m\u001b[0;36m1\u001b[0m\u001b[0;34m]\u001b[0m\u001b[0;34m\u001b[0m\u001b[0m\n",
      "\u001b[0;31mTypeError\u001b[0m: unsupported operand type(s) for +: 'float' and 'str'"
     ]
    }
   ],
   "source": [
    "RE(make_safe(raises_in_RE()))"
   ]
  },
  {
   "cell_type": "code",
   "execution_count": 119,
   "metadata": {
    "collapsed": false,
    "slideshow": {
     "slide_type": "subslide"
    }
   },
   "outputs": [
    {
     "name": "stdout",
     "output_type": "stream",
     "text": [
      "PROCESSING: sleep: (None), ('a',), {}\n",
      "Ignoring: unsupported operand type(s) for +: 'float' and 'str'\n",
      "PROCESSING: sleep: (None), (1,), {}\n"
     ]
    },
    {
     "data": {
      "text/plain": [
       "[]"
      ]
     },
     "execution_count": 119,
     "metadata": {},
     "output_type": "execute_result"
    }
   ],
   "source": [
    "def reckless_plan():\n",
    "    try:\n",
    "        yield from raises_in_RE()\n",
    "    except Exception as exc:\n",
    "        print(\"Ignoring:\", exc)\n",
    "    yield Msg('sleep', None, 1)\n",
    "        \n",
    "RE(reckless_plan())"
   ]
  },
  {
   "cell_type": "markdown",
   "metadata": {
    "slideshow": {
     "slide_type": "slide"
    }
   },
   "source": [
    "## The RunEngine collates all metadata and data into validated dicts\n",
    "\n",
    "* Dicts contain metadata and data.\n",
    "* They are validated against a JSON schema.\n",
    "* Dicts are dispatched to a list of \"subscribers\".\n",
    "    * Subscribers can be blocking or non-blocking.\n",
    "    * Subscribers can be lossy.\n",
    "\n",
    "Examples:\n",
    "* Insert dicts into to NoSQL database.\n",
    "* Print, plot, or produce log entries.\n",
    "* Write CSV files or HDF5 files."
   ]
  },
  {
   "cell_type": "code",
   "execution_count": 127,
   "metadata": {
    "collapsed": false,
    "slideshow": {
     "slide_type": "subslide"
    }
   },
   "outputs": [],
   "source": [
    "RE.msg_hook = None  # turn off verbosity\n",
    "\n",
    "# Use synthetic hardware objects.\n",
    "from bluesky.examples import det, motor\n",
    "motor._fake_sleep = 0.25  # sim moving time\n",
    "\n",
    "from bluesky.plans import (open_run, close_run,\n",
    "                           abs_set,\n",
    "                           trigger_and_read)\n",
    "\n",
    "def plan():\n",
    "    \"scan 'motor' from 1 to 5 while reading 'detector'\"\n",
    "    yield from open_run({'some_metadata': 'hello world'})\n",
    "    for i in range(5):\n",
    "        yield from abs_set(motor, i)\n",
    "        yield from trigger_and_read([det, motor])\n",
    "    yield from close_run()"
   ]
  },
  {
   "cell_type": "code",
   "execution_count": 128,
   "metadata": {
    "collapsed": false,
    "slideshow": {
     "slide_type": "subslide"
    }
   },
   "outputs": [
    {
     "data": {
      "text/plain": [
       "['8af80382-0e94-4d44-954f-0cb1eea9e27f']"
      ]
     },
     "execution_count": 128,
     "metadata": {},
     "output_type": "execute_result"
    }
   ],
   "source": [
    "RE(plan())"
   ]
  },
  {
   "cell_type": "code",
   "execution_count": 129,
   "metadata": {
    "collapsed": false,
    "slideshow": {
     "slide_type": "subslide"
    }
   },
   "outputs": [
    {
     "name": "stdout",
     "output_type": "stream",
     "text": [
      "start {'scan_id': 6, 'plan_name': 'plan', 'uid': 'aab16863-06cb-46bc-86aa-87266b95bdad', 'plan_type': 'generator', 'time': 1468426014.826086, 'some_metadata': 'hello world'}\n",
      "descriptor {'time': 1468426015.082275, 'data_keys': {'motor': {'dtype': 'number', 'object_name': 'motor', 'precision': 3, 'shape': None, 'source': 'motor'}, 'det': {'dtype': 'number', 'object_name': 'det', 'precision': 3, 'shape': None, 'source': 'det'}}, 'name': 'primary', 'uid': 'e2adb396-43f2-4d47-9047-c615800ada5e', 'run_start': 'aab16863-06cb-46bc-86aa-87266b95bdad', 'configuration': {'motor': {'timestamps': {'some_configuration': 0}, 'data': {'some_configuration': 'there is a sandwich in the vacuum chamber'}, 'data_keys': {}}, 'det': {'timestamps': {'some_configuration': 0}, 'data': {'some_configuration': 'there is a sandwich in the vacuum chamber'}, 'data_keys': {}}}, 'object_keys': {'motor': ['motor'], 'det': ['det']}}\n",
      "event {'timestamps': {'motor': 1468426015.080182, 'det': 1468426015.080562}, 'uid': 'c88f5f50-1c89-4f2b-a89a-69b40bd265e5', 'seq_num': 1, 'data': {'motor': 0, 'det': 1.0}, 'time': 1468426015.084346, 'descriptor': 'e2adb396-43f2-4d47-9047-c615800ada5e'}\n",
      "event {'timestamps': {'motor': 1468426015.335859, 'det': 1468426015.336452}, 'uid': '2591dafa-f545-43c6-9c7b-47d70a8328f9', 'seq_num': 2, 'data': {'motor': 1, 'det': 0.6065306597126334}, 'time': 1468426015.338543, 'descriptor': 'e2adb396-43f2-4d47-9047-c615800ada5e'}\n",
      "event {'timestamps': {'motor': 1468426015.593601, 'det': 1468426015.594175}, 'uid': '4dc871fa-e300-4d33-b449-1d6711dedc34', 'seq_num': 3, 'data': {'motor': 2, 'det': 0.1353352832366127}, 'time': 1468426015.59641, 'descriptor': 'e2adb396-43f2-4d47-9047-c615800ada5e'}\n",
      "event {'timestamps': {'motor': 1468426015.85082, 'det': 1468426015.851359}, 'uid': '89912d7c-95ca-4f96-8e78-216cc7b1f68c', 'seq_num': 4, 'data': {'motor': 3, 'det': 0.011108996538242306}, 'time': 1468426015.853021, 'descriptor': 'e2adb396-43f2-4d47-9047-c615800ada5e'}\n",
      "eventstop {'exit_status': 'success', 'time': 1468426016.113182, 'reason': '', 'run_start': 'aab16863-06cb-46bc-86aa-87266b95bdad', 'uid': '547e382d-e599-40ce-8841-55a24e3be6e1'}\n",
      " {'timestamps': {'motor': 1468426016.10846, 'det': 1468426016.109124}, 'uid': '47c09882-75c3-4453-9cc1-b9856db18f44', 'seq_num': 5, 'data': {'motor': 4, 'det': 0.00033546262790251185}, 'time': 1468426016.111344, 'descriptor': 'e2adb396-43f2-4d47-9047-c615800ada5e'}\n"
     ]
    },
    {
     "data": {
      "text/plain": [
       "['aab16863-06cb-46bc-86aa-87266b95bdad']"
      ]
     },
     "execution_count": 129,
     "metadata": {},
     "output_type": "execute_result"
    }
   ],
   "source": [
    "RE(plan(), print)"
   ]
  },
  {
   "cell_type": "code",
   "execution_count": 132,
   "metadata": {
    "collapsed": false,
    "slideshow": {
     "slide_type": "subslide"
    }
   },
   "outputs": [
    {
     "name": "stdout",
     "output_type": "stream",
     "text": [
      "+-----------+------------+------------+------------+\n",
      "|   seq_num |       time |      motor |        det |\n",
      "+-----------+------------+------------+------------+\n",
      "|         1 | 11:07:15.7 |      0.000 |      1.000 |\n",
      "|         2 | 11:07:16.0 |      1.000 |      0.607 |\n",
      "|         3 | 11:07:16.2 |      2.000 |      0.135 |\n",
      "|         4 | 11:07:16.5 |      3.000 |      0.011 |\n",
      "|         5 | 11:07:16.7 |      4.000 |      0.000 |\n",
      "+-----------+------------+------------+------------+\n",
      "generator plan ['ecbbe5'] (scan num: 9)\n"
     ]
    },
    {
     "data": {
      "text/plain": [
       "['ecbbe5f7-2163-4b52-bb99-91a58066fa69']"
      ]
     },
     "execution_count": 132,
     "metadata": {},
     "output_type": "execute_result"
    }
   ],
   "source": [
    "from bluesky.callbacks import LiveTable\n",
    "\n",
    "RE(plan(), LiveTable([motor, det]))"
   ]
  },
  {
   "cell_type": "code",
   "execution_count": 133,
   "metadata": {
    "collapsed": false,
    "slideshow": {
     "slide_type": "subslide"
    }
   },
   "outputs": [],
   "source": [
    "%matplotlib notebook\n",
    "import matplotlib.pyplot as plt"
   ]
  },
  {
   "cell_type": "code",
   "execution_count": 135,
   "metadata": {
    "collapsed": false,
    "scrolled": true,
    "slideshow": {
     "slide_type": "fragment"
    }
   },
   "outputs": [
    {
     "data": {
      "application/javascript": [
       "/* Put everything inside the global mpl namespace */\n",
       "window.mpl = {};\n",
       "\n",
       "mpl.get_websocket_type = function() {\n",
       "    if (typeof(WebSocket) !== 'undefined') {\n",
       "        return WebSocket;\n",
       "    } else if (typeof(MozWebSocket) !== 'undefined') {\n",
       "        return MozWebSocket;\n",
       "    } else {\n",
       "        alert('Your browser does not have WebSocket support.' +\n",
       "              'Please try Chrome, Safari or Firefox ≥ 6. ' +\n",
       "              'Firefox 4 and 5 are also supported but you ' +\n",
       "              'have to enable WebSockets in about:config.');\n",
       "    };\n",
       "}\n",
       "\n",
       "mpl.figure = function(figure_id, websocket, ondownload, parent_element) {\n",
       "    this.id = figure_id;\n",
       "\n",
       "    this.ws = websocket;\n",
       "\n",
       "    this.supports_binary = (this.ws.binaryType != undefined);\n",
       "\n",
       "    if (!this.supports_binary) {\n",
       "        var warnings = document.getElementById(\"mpl-warnings\");\n",
       "        if (warnings) {\n",
       "            warnings.style.display = 'block';\n",
       "            warnings.textContent = (\n",
       "                \"This browser does not support binary websocket messages. \" +\n",
       "                    \"Performance may be slow.\");\n",
       "        }\n",
       "    }\n",
       "\n",
       "    this.imageObj = new Image();\n",
       "\n",
       "    this.context = undefined;\n",
       "    this.message = undefined;\n",
       "    this.canvas = undefined;\n",
       "    this.rubberband_canvas = undefined;\n",
       "    this.rubberband_context = undefined;\n",
       "    this.format_dropdown = undefined;\n",
       "\n",
       "    this.image_mode = 'full';\n",
       "\n",
       "    this.root = $('<div/>');\n",
       "    this._root_extra_style(this.root)\n",
       "    this.root.attr('style', 'display: inline-block');\n",
       "\n",
       "    $(parent_element).append(this.root);\n",
       "\n",
       "    this._init_header(this);\n",
       "    this._init_canvas(this);\n",
       "    this._init_toolbar(this);\n",
       "\n",
       "    var fig = this;\n",
       "\n",
       "    this.waiting = false;\n",
       "\n",
       "    this.ws.onopen =  function () {\n",
       "            fig.send_message(\"supports_binary\", {value: fig.supports_binary});\n",
       "            fig.send_message(\"send_image_mode\", {});\n",
       "            fig.send_message(\"refresh\", {});\n",
       "        }\n",
       "\n",
       "    this.imageObj.onload = function() {\n",
       "            if (fig.image_mode == 'full') {\n",
       "                // Full images could contain transparency (where diff images\n",
       "                // almost always do), so we need to clear the canvas so that\n",
       "                // there is no ghosting.\n",
       "                fig.context.clearRect(0, 0, fig.canvas.width, fig.canvas.height);\n",
       "            }\n",
       "            fig.context.drawImage(fig.imageObj, 0, 0);\n",
       "        };\n",
       "\n",
       "    this.imageObj.onunload = function() {\n",
       "        this.ws.close();\n",
       "    }\n",
       "\n",
       "    this.ws.onmessage = this._make_on_message_function(this);\n",
       "\n",
       "    this.ondownload = ondownload;\n",
       "}\n",
       "\n",
       "mpl.figure.prototype._init_header = function() {\n",
       "    var titlebar = $(\n",
       "        '<div class=\"ui-dialog-titlebar ui-widget-header ui-corner-all ' +\n",
       "        'ui-helper-clearfix\"/>');\n",
       "    var titletext = $(\n",
       "        '<div class=\"ui-dialog-title\" style=\"width: 100%; ' +\n",
       "        'text-align: center; padding: 3px;\"/>');\n",
       "    titlebar.append(titletext)\n",
       "    this.root.append(titlebar);\n",
       "    this.header = titletext[0];\n",
       "}\n",
       "\n",
       "\n",
       "\n",
       "mpl.figure.prototype._canvas_extra_style = function(canvas_div) {\n",
       "\n",
       "}\n",
       "\n",
       "\n",
       "mpl.figure.prototype._root_extra_style = function(canvas_div) {\n",
       "\n",
       "}\n",
       "\n",
       "mpl.figure.prototype._init_canvas = function() {\n",
       "    var fig = this;\n",
       "\n",
       "    var canvas_div = $('<div/>');\n",
       "\n",
       "    canvas_div.attr('style', 'position: relative; clear: both; outline: 0');\n",
       "\n",
       "    function canvas_keyboard_event(event) {\n",
       "        return fig.key_event(event, event['data']);\n",
       "    }\n",
       "\n",
       "    canvas_div.keydown('key_press', canvas_keyboard_event);\n",
       "    canvas_div.keyup('key_release', canvas_keyboard_event);\n",
       "    this.canvas_div = canvas_div\n",
       "    this._canvas_extra_style(canvas_div)\n",
       "    this.root.append(canvas_div);\n",
       "\n",
       "    var canvas = $('<canvas/>');\n",
       "    canvas.addClass('mpl-canvas');\n",
       "    canvas.attr('style', \"left: 0; top: 0; z-index: 0; outline: 0\")\n",
       "\n",
       "    this.canvas = canvas[0];\n",
       "    this.context = canvas[0].getContext(\"2d\");\n",
       "\n",
       "    var rubberband = $('<canvas/>');\n",
       "    rubberband.attr('style', \"position: absolute; left: 0; top: 0; z-index: 1;\")\n",
       "\n",
       "    var pass_mouse_events = true;\n",
       "\n",
       "    canvas_div.resizable({\n",
       "        start: function(event, ui) {\n",
       "            pass_mouse_events = false;\n",
       "        },\n",
       "        resize: function(event, ui) {\n",
       "            fig.request_resize(ui.size.width, ui.size.height);\n",
       "        },\n",
       "        stop: function(event, ui) {\n",
       "            pass_mouse_events = true;\n",
       "            fig.request_resize(ui.size.width, ui.size.height);\n",
       "        },\n",
       "    });\n",
       "\n",
       "    function mouse_event_fn(event) {\n",
       "        if (pass_mouse_events)\n",
       "            return fig.mouse_event(event, event['data']);\n",
       "    }\n",
       "\n",
       "    rubberband.mousedown('button_press', mouse_event_fn);\n",
       "    rubberband.mouseup('button_release', mouse_event_fn);\n",
       "    // Throttle sequential mouse events to 1 every 20ms.\n",
       "    rubberband.mousemove('motion_notify', mouse_event_fn);\n",
       "\n",
       "    rubberband.mouseenter('figure_enter', mouse_event_fn);\n",
       "    rubberband.mouseleave('figure_leave', mouse_event_fn);\n",
       "\n",
       "    canvas_div.on(\"wheel\", function (event) {\n",
       "        event = event.originalEvent;\n",
       "        event['data'] = 'scroll'\n",
       "        if (event.deltaY < 0) {\n",
       "            event.step = 1;\n",
       "        } else {\n",
       "            event.step = -1;\n",
       "        }\n",
       "        mouse_event_fn(event);\n",
       "    });\n",
       "\n",
       "    canvas_div.append(canvas);\n",
       "    canvas_div.append(rubberband);\n",
       "\n",
       "    this.rubberband = rubberband;\n",
       "    this.rubberband_canvas = rubberband[0];\n",
       "    this.rubberband_context = rubberband[0].getContext(\"2d\");\n",
       "    this.rubberband_context.strokeStyle = \"#000000\";\n",
       "\n",
       "    this._resize_canvas = function(width, height) {\n",
       "        // Keep the size of the canvas, canvas container, and rubber band\n",
       "        // canvas in synch.\n",
       "        canvas_div.css('width', width)\n",
       "        canvas_div.css('height', height)\n",
       "\n",
       "        canvas.attr('width', width);\n",
       "        canvas.attr('height', height);\n",
       "\n",
       "        rubberband.attr('width', width);\n",
       "        rubberband.attr('height', height);\n",
       "    }\n",
       "\n",
       "    // Set the figure to an initial 600x600px, this will subsequently be updated\n",
       "    // upon first draw.\n",
       "    this._resize_canvas(600, 600);\n",
       "\n",
       "    // Disable right mouse context menu.\n",
       "    $(this.rubberband_canvas).bind(\"contextmenu\",function(e){\n",
       "        return false;\n",
       "    });\n",
       "\n",
       "    function set_focus () {\n",
       "        canvas.focus();\n",
       "        canvas_div.focus();\n",
       "    }\n",
       "\n",
       "    window.setTimeout(set_focus, 100);\n",
       "}\n",
       "\n",
       "mpl.figure.prototype._init_toolbar = function() {\n",
       "    var fig = this;\n",
       "\n",
       "    var nav_element = $('<div/>')\n",
       "    nav_element.attr('style', 'width: 100%');\n",
       "    this.root.append(nav_element);\n",
       "\n",
       "    // Define a callback function for later on.\n",
       "    function toolbar_event(event) {\n",
       "        return fig.toolbar_button_onclick(event['data']);\n",
       "    }\n",
       "    function toolbar_mouse_event(event) {\n",
       "        return fig.toolbar_button_onmouseover(event['data']);\n",
       "    }\n",
       "\n",
       "    for(var toolbar_ind in mpl.toolbar_items) {\n",
       "        var name = mpl.toolbar_items[toolbar_ind][0];\n",
       "        var tooltip = mpl.toolbar_items[toolbar_ind][1];\n",
       "        var image = mpl.toolbar_items[toolbar_ind][2];\n",
       "        var method_name = mpl.toolbar_items[toolbar_ind][3];\n",
       "\n",
       "        if (!name) {\n",
       "            // put a spacer in here.\n",
       "            continue;\n",
       "        }\n",
       "        var button = $('<button/>');\n",
       "        button.addClass('ui-button ui-widget ui-state-default ui-corner-all ' +\n",
       "                        'ui-button-icon-only');\n",
       "        button.attr('role', 'button');\n",
       "        button.attr('aria-disabled', 'false');\n",
       "        button.click(method_name, toolbar_event);\n",
       "        button.mouseover(tooltip, toolbar_mouse_event);\n",
       "\n",
       "        var icon_img = $('<span/>');\n",
       "        icon_img.addClass('ui-button-icon-primary ui-icon');\n",
       "        icon_img.addClass(image);\n",
       "        icon_img.addClass('ui-corner-all');\n",
       "\n",
       "        var tooltip_span = $('<span/>');\n",
       "        tooltip_span.addClass('ui-button-text');\n",
       "        tooltip_span.html(tooltip);\n",
       "\n",
       "        button.append(icon_img);\n",
       "        button.append(tooltip_span);\n",
       "\n",
       "        nav_element.append(button);\n",
       "    }\n",
       "\n",
       "    var fmt_picker_span = $('<span/>');\n",
       "\n",
       "    var fmt_picker = $('<select/>');\n",
       "    fmt_picker.addClass('mpl-toolbar-option ui-widget ui-widget-content');\n",
       "    fmt_picker_span.append(fmt_picker);\n",
       "    nav_element.append(fmt_picker_span);\n",
       "    this.format_dropdown = fmt_picker[0];\n",
       "\n",
       "    for (var ind in mpl.extensions) {\n",
       "        var fmt = mpl.extensions[ind];\n",
       "        var option = $(\n",
       "            '<option/>', {selected: fmt === mpl.default_extension}).html(fmt);\n",
       "        fmt_picker.append(option)\n",
       "    }\n",
       "\n",
       "    // Add hover states to the ui-buttons\n",
       "    $( \".ui-button\" ).hover(\n",
       "        function() { $(this).addClass(\"ui-state-hover\");},\n",
       "        function() { $(this).removeClass(\"ui-state-hover\");}\n",
       "    );\n",
       "\n",
       "    var status_bar = $('<span class=\"mpl-message\"/>');\n",
       "    nav_element.append(status_bar);\n",
       "    this.message = status_bar[0];\n",
       "}\n",
       "\n",
       "mpl.figure.prototype.request_resize = function(x_pixels, y_pixels) {\n",
       "    // Request matplotlib to resize the figure. Matplotlib will then trigger a resize in the client,\n",
       "    // which will in turn request a refresh of the image.\n",
       "    this.send_message('resize', {'width': x_pixels, 'height': y_pixels});\n",
       "}\n",
       "\n",
       "mpl.figure.prototype.send_message = function(type, properties) {\n",
       "    properties['type'] = type;\n",
       "    properties['figure_id'] = this.id;\n",
       "    this.ws.send(JSON.stringify(properties));\n",
       "}\n",
       "\n",
       "mpl.figure.prototype.send_draw_message = function() {\n",
       "    if (!this.waiting) {\n",
       "        this.waiting = true;\n",
       "        this.ws.send(JSON.stringify({type: \"draw\", figure_id: this.id}));\n",
       "    }\n",
       "}\n",
       "\n",
       "\n",
       "mpl.figure.prototype.handle_save = function(fig, msg) {\n",
       "    var format_dropdown = fig.format_dropdown;\n",
       "    var format = format_dropdown.options[format_dropdown.selectedIndex].value;\n",
       "    fig.ondownload(fig, format);\n",
       "}\n",
       "\n",
       "\n",
       "mpl.figure.prototype.handle_resize = function(fig, msg) {\n",
       "    var size = msg['size'];\n",
       "    if (size[0] != fig.canvas.width || size[1] != fig.canvas.height) {\n",
       "        fig._resize_canvas(size[0], size[1]);\n",
       "        fig.send_message(\"refresh\", {});\n",
       "    };\n",
       "}\n",
       "\n",
       "mpl.figure.prototype.handle_rubberband = function(fig, msg) {\n",
       "    var x0 = msg['x0'];\n",
       "    var y0 = fig.canvas.height - msg['y0'];\n",
       "    var x1 = msg['x1'];\n",
       "    var y1 = fig.canvas.height - msg['y1'];\n",
       "    x0 = Math.floor(x0) + 0.5;\n",
       "    y0 = Math.floor(y0) + 0.5;\n",
       "    x1 = Math.floor(x1) + 0.5;\n",
       "    y1 = Math.floor(y1) + 0.5;\n",
       "    var min_x = Math.min(x0, x1);\n",
       "    var min_y = Math.min(y0, y1);\n",
       "    var width = Math.abs(x1 - x0);\n",
       "    var height = Math.abs(y1 - y0);\n",
       "\n",
       "    fig.rubberband_context.clearRect(\n",
       "        0, 0, fig.canvas.width, fig.canvas.height);\n",
       "\n",
       "    fig.rubberband_context.strokeRect(min_x, min_y, width, height);\n",
       "}\n",
       "\n",
       "mpl.figure.prototype.handle_figure_label = function(fig, msg) {\n",
       "    // Updates the figure title.\n",
       "    fig.header.textContent = msg['label'];\n",
       "}\n",
       "\n",
       "mpl.figure.prototype.handle_cursor = function(fig, msg) {\n",
       "    var cursor = msg['cursor'];\n",
       "    switch(cursor)\n",
       "    {\n",
       "    case 0:\n",
       "        cursor = 'pointer';\n",
       "        break;\n",
       "    case 1:\n",
       "        cursor = 'default';\n",
       "        break;\n",
       "    case 2:\n",
       "        cursor = 'crosshair';\n",
       "        break;\n",
       "    case 3:\n",
       "        cursor = 'move';\n",
       "        break;\n",
       "    }\n",
       "    fig.rubberband_canvas.style.cursor = cursor;\n",
       "}\n",
       "\n",
       "mpl.figure.prototype.handle_message = function(fig, msg) {\n",
       "    fig.message.textContent = msg['message'];\n",
       "}\n",
       "\n",
       "mpl.figure.prototype.handle_draw = function(fig, msg) {\n",
       "    // Request the server to send over a new figure.\n",
       "    fig.send_draw_message();\n",
       "}\n",
       "\n",
       "mpl.figure.prototype.handle_image_mode = function(fig, msg) {\n",
       "    fig.image_mode = msg['mode'];\n",
       "}\n",
       "\n",
       "mpl.figure.prototype.updated_canvas_event = function() {\n",
       "    // Called whenever the canvas gets updated.\n",
       "    this.send_message(\"ack\", {});\n",
       "}\n",
       "\n",
       "// A function to construct a web socket function for onmessage handling.\n",
       "// Called in the figure constructor.\n",
       "mpl.figure.prototype._make_on_message_function = function(fig) {\n",
       "    return function socket_on_message(evt) {\n",
       "        if (evt.data instanceof Blob) {\n",
       "            /* FIXME: We get \"Resource interpreted as Image but\n",
       "             * transferred with MIME type text/plain:\" errors on\n",
       "             * Chrome.  But how to set the MIME type?  It doesn't seem\n",
       "             * to be part of the websocket stream */\n",
       "            evt.data.type = \"image/png\";\n",
       "\n",
       "            /* Free the memory for the previous frames */\n",
       "            if (fig.imageObj.src) {\n",
       "                (window.URL || window.webkitURL).revokeObjectURL(\n",
       "                    fig.imageObj.src);\n",
       "            }\n",
       "\n",
       "            fig.imageObj.src = (window.URL || window.webkitURL).createObjectURL(\n",
       "                evt.data);\n",
       "            fig.updated_canvas_event();\n",
       "            fig.waiting = false;\n",
       "            return;\n",
       "        }\n",
       "        else if (typeof evt.data === 'string' && evt.data.slice(0, 21) == \"data:image/png;base64\") {\n",
       "            fig.imageObj.src = evt.data;\n",
       "            fig.updated_canvas_event();\n",
       "            fig.waiting = false;\n",
       "            return;\n",
       "        }\n",
       "\n",
       "        var msg = JSON.parse(evt.data);\n",
       "        var msg_type = msg['type'];\n",
       "\n",
       "        // Call the  \"handle_{type}\" callback, which takes\n",
       "        // the figure and JSON message as its only arguments.\n",
       "        try {\n",
       "            var callback = fig[\"handle_\" + msg_type];\n",
       "        } catch (e) {\n",
       "            console.log(\"No handler for the '\" + msg_type + \"' message type: \", msg);\n",
       "            return;\n",
       "        }\n",
       "\n",
       "        if (callback) {\n",
       "            try {\n",
       "                // console.log(\"Handling '\" + msg_type + \"' message: \", msg);\n",
       "                callback(fig, msg);\n",
       "            } catch (e) {\n",
       "                console.log(\"Exception inside the 'handler_\" + msg_type + \"' callback:\", e, e.stack, msg);\n",
       "            }\n",
       "        }\n",
       "    };\n",
       "}\n",
       "\n",
       "// from http://stackoverflow.com/questions/1114465/getting-mouse-location-in-canvas\n",
       "mpl.findpos = function(e) {\n",
       "    //this section is from http://www.quirksmode.org/js/events_properties.html\n",
       "    var targ;\n",
       "    if (!e)\n",
       "        e = window.event;\n",
       "    if (e.target)\n",
       "        targ = e.target;\n",
       "    else if (e.srcElement)\n",
       "        targ = e.srcElement;\n",
       "    if (targ.nodeType == 3) // defeat Safari bug\n",
       "        targ = targ.parentNode;\n",
       "\n",
       "    // jQuery normalizes the pageX and pageY\n",
       "    // pageX,Y are the mouse positions relative to the document\n",
       "    // offset() returns the position of the element relative to the document\n",
       "    var x = e.pageX - $(targ).offset().left;\n",
       "    var y = e.pageY - $(targ).offset().top;\n",
       "\n",
       "    return {\"x\": x, \"y\": y};\n",
       "};\n",
       "\n",
       "/*\n",
       " * return a copy of an object with only non-object keys\n",
       " * we need this to avoid circular references\n",
       " * http://stackoverflow.com/a/24161582/3208463\n",
       " */\n",
       "function simpleKeys (original) {\n",
       "  return Object.keys(original).reduce(function (obj, key) {\n",
       "    if (typeof original[key] !== 'object')\n",
       "        obj[key] = original[key]\n",
       "    return obj;\n",
       "  }, {});\n",
       "}\n",
       "\n",
       "mpl.figure.prototype.mouse_event = function(event, name) {\n",
       "    var canvas_pos = mpl.findpos(event)\n",
       "\n",
       "    if (name === 'button_press')\n",
       "    {\n",
       "        this.canvas.focus();\n",
       "        this.canvas_div.focus();\n",
       "    }\n",
       "\n",
       "    var x = canvas_pos.x;\n",
       "    var y = canvas_pos.y;\n",
       "\n",
       "    this.send_message(name, {x: x, y: y, button: event.button,\n",
       "                             step: event.step,\n",
       "                             guiEvent: simpleKeys(event)});\n",
       "\n",
       "    /* This prevents the web browser from automatically changing to\n",
       "     * the text insertion cursor when the button is pressed.  We want\n",
       "     * to control all of the cursor setting manually through the\n",
       "     * 'cursor' event from matplotlib */\n",
       "    event.preventDefault();\n",
       "    return false;\n",
       "}\n",
       "\n",
       "mpl.figure.prototype._key_event_extra = function(event, name) {\n",
       "    // Handle any extra behaviour associated with a key event\n",
       "}\n",
       "\n",
       "mpl.figure.prototype.key_event = function(event, name) {\n",
       "\n",
       "    // Prevent repeat events\n",
       "    if (name == 'key_press')\n",
       "    {\n",
       "        if (event.which === this._key)\n",
       "            return;\n",
       "        else\n",
       "            this._key = event.which;\n",
       "    }\n",
       "    if (name == 'key_release')\n",
       "        this._key = null;\n",
       "\n",
       "    var value = '';\n",
       "    if (event.ctrlKey && event.which != 17)\n",
       "        value += \"ctrl+\";\n",
       "    if (event.altKey && event.which != 18)\n",
       "        value += \"alt+\";\n",
       "    if (event.shiftKey && event.which != 16)\n",
       "        value += \"shift+\";\n",
       "\n",
       "    value += 'k';\n",
       "    value += event.which.toString();\n",
       "\n",
       "    this._key_event_extra(event, name);\n",
       "\n",
       "    this.send_message(name, {key: value,\n",
       "                             guiEvent: simpleKeys(event)});\n",
       "    return false;\n",
       "}\n",
       "\n",
       "mpl.figure.prototype.toolbar_button_onclick = function(name) {\n",
       "    if (name == 'download') {\n",
       "        this.handle_save(this, null);\n",
       "    } else {\n",
       "        this.send_message(\"toolbar_button\", {name: name});\n",
       "    }\n",
       "};\n",
       "\n",
       "mpl.figure.prototype.toolbar_button_onmouseover = function(tooltip) {\n",
       "    this.message.textContent = tooltip;\n",
       "};\n",
       "mpl.toolbar_items = [[\"Home\", \"Reset original view\", \"fa fa-home icon-home\", \"home\"], [\"Back\", \"Back to  previous view\", \"fa fa-arrow-left icon-arrow-left\", \"back\"], [\"Forward\", \"Forward to next view\", \"fa fa-arrow-right icon-arrow-right\", \"forward\"], [\"\", \"\", \"\", \"\"], [\"Pan\", \"Pan axes with left mouse, zoom with right\", \"fa fa-arrows icon-move\", \"pan\"], [\"Zoom\", \"Zoom to rectangle\", \"fa fa-square-o icon-check-empty\", \"zoom\"], [\"\", \"\", \"\", \"\"], [\"Download\", \"Download plot\", \"fa fa-floppy-o icon-save\", \"download\"]];\n",
       "\n",
       "mpl.extensions = [\"eps\", \"jpeg\", \"pdf\", \"png\", \"ps\", \"raw\", \"svg\", \"tif\"];\n",
       "\n",
       "mpl.default_extension = \"png\";var comm_websocket_adapter = function(comm) {\n",
       "    // Create a \"websocket\"-like object which calls the given IPython comm\n",
       "    // object with the appropriate methods. Currently this is a non binary\n",
       "    // socket, so there is still some room for performance tuning.\n",
       "    var ws = {};\n",
       "\n",
       "    ws.close = function() {\n",
       "        comm.close()\n",
       "    };\n",
       "    ws.send = function(m) {\n",
       "        //console.log('sending', m);\n",
       "        comm.send(m);\n",
       "    };\n",
       "    // Register the callback with on_msg.\n",
       "    comm.on_msg(function(msg) {\n",
       "        //console.log('receiving', msg['content']['data'], msg);\n",
       "        // Pass the mpl event to the overriden (by mpl) onmessage function.\n",
       "        ws.onmessage(msg['content']['data'])\n",
       "    });\n",
       "    return ws;\n",
       "}\n",
       "\n",
       "mpl.mpl_figure_comm = function(comm, msg) {\n",
       "    // This is the function which gets called when the mpl process\n",
       "    // starts-up an IPython Comm through the \"matplotlib\" channel.\n",
       "\n",
       "    var id = msg.content.data.id;\n",
       "    // Get hold of the div created by the display call when the Comm\n",
       "    // socket was opened in Python.\n",
       "    var element = $(\"#\" + id);\n",
       "    var ws_proxy = comm_websocket_adapter(comm)\n",
       "\n",
       "    function ondownload(figure, format) {\n",
       "        window.open(figure.imageObj.src);\n",
       "    }\n",
       "\n",
       "    var fig = new mpl.figure(id, ws_proxy,\n",
       "                           ondownload,\n",
       "                           element.get(0));\n",
       "\n",
       "    // Call onopen now - mpl needs it, as it is assuming we've passed it a real\n",
       "    // web socket which is closed, not our websocket->open comm proxy.\n",
       "    ws_proxy.onopen();\n",
       "\n",
       "    fig.parent_element = element.get(0);\n",
       "    fig.cell_info = mpl.find_output_cell(\"<div id='\" + id + \"'></div>\");\n",
       "    if (!fig.cell_info) {\n",
       "        console.error(\"Failed to find cell for figure\", id, fig);\n",
       "        return;\n",
       "    }\n",
       "\n",
       "    var output_index = fig.cell_info[2]\n",
       "    var cell = fig.cell_info[0];\n",
       "\n",
       "};\n",
       "\n",
       "mpl.figure.prototype.handle_close = function(fig, msg) {\n",
       "    fig.root.unbind('remove')\n",
       "\n",
       "    // Update the output cell to use the data from the current canvas.\n",
       "    fig.push_to_output();\n",
       "    var dataURL = fig.canvas.toDataURL();\n",
       "    // Re-enable the keyboard manager in IPython - without this line, in FF,\n",
       "    // the notebook keyboard shortcuts fail.\n",
       "    IPython.keyboard_manager.enable()\n",
       "    $(fig.parent_element).html('<img src=\"' + dataURL + '\">');\n",
       "    fig.close_ws(fig, msg);\n",
       "}\n",
       "\n",
       "mpl.figure.prototype.close_ws = function(fig, msg){\n",
       "    fig.send_message('closing', msg);\n",
       "    // fig.ws.close()\n",
       "}\n",
       "\n",
       "mpl.figure.prototype.push_to_output = function(remove_interactive) {\n",
       "    // Turn the data on the canvas into data in the output cell.\n",
       "    var dataURL = this.canvas.toDataURL();\n",
       "    this.cell_info[1]['text/html'] = '<img src=\"' + dataURL + '\">';\n",
       "}\n",
       "\n",
       "mpl.figure.prototype.updated_canvas_event = function() {\n",
       "    // Tell IPython that the notebook contents must change.\n",
       "    IPython.notebook.set_dirty(true);\n",
       "    this.send_message(\"ack\", {});\n",
       "    var fig = this;\n",
       "    // Wait a second, then push the new image to the DOM so\n",
       "    // that it is saved nicely (might be nice to debounce this).\n",
       "    setTimeout(function () { fig.push_to_output() }, 1000);\n",
       "}\n",
       "\n",
       "mpl.figure.prototype._init_toolbar = function() {\n",
       "    var fig = this;\n",
       "\n",
       "    var nav_element = $('<div/>')\n",
       "    nav_element.attr('style', 'width: 100%');\n",
       "    this.root.append(nav_element);\n",
       "\n",
       "    // Define a callback function for later on.\n",
       "    function toolbar_event(event) {\n",
       "        return fig.toolbar_button_onclick(event['data']);\n",
       "    }\n",
       "    function toolbar_mouse_event(event) {\n",
       "        return fig.toolbar_button_onmouseover(event['data']);\n",
       "    }\n",
       "\n",
       "    for(var toolbar_ind in mpl.toolbar_items){\n",
       "        var name = mpl.toolbar_items[toolbar_ind][0];\n",
       "        var tooltip = mpl.toolbar_items[toolbar_ind][1];\n",
       "        var image = mpl.toolbar_items[toolbar_ind][2];\n",
       "        var method_name = mpl.toolbar_items[toolbar_ind][3];\n",
       "\n",
       "        if (!name) { continue; };\n",
       "\n",
       "        var button = $('<button class=\"btn btn-default\" href=\"#\" title=\"' + name + '\"><i class=\"fa ' + image + ' fa-lg\"></i></button>');\n",
       "        button.click(method_name, toolbar_event);\n",
       "        button.mouseover(tooltip, toolbar_mouse_event);\n",
       "        nav_element.append(button);\n",
       "    }\n",
       "\n",
       "    // Add the status bar.\n",
       "    var status_bar = $('<span class=\"mpl-message\" style=\"text-align:right; float: right;\"/>');\n",
       "    nav_element.append(status_bar);\n",
       "    this.message = status_bar[0];\n",
       "\n",
       "    // Add the close button to the window.\n",
       "    var buttongrp = $('<div class=\"btn-group inline pull-right\"></div>');\n",
       "    var button = $('<button class=\"btn btn-mini btn-primary\" href=\"#\" title=\"Stop Interaction\"><i class=\"fa fa-power-off icon-remove icon-large\"></i></button>');\n",
       "    button.click(function (evt) { fig.handle_close(fig, {}); } );\n",
       "    button.mouseover('Stop Interaction', toolbar_mouse_event);\n",
       "    buttongrp.append(button);\n",
       "    var titlebar = this.root.find($('.ui-dialog-titlebar'));\n",
       "    titlebar.prepend(buttongrp);\n",
       "}\n",
       "\n",
       "mpl.figure.prototype._root_extra_style = function(el){\n",
       "    var fig = this\n",
       "    el.on(\"remove\", function(){\n",
       "\tfig.close_ws(fig, {});\n",
       "    });\n",
       "}\n",
       "\n",
       "mpl.figure.prototype._canvas_extra_style = function(el){\n",
       "    // this is important to make the div 'focusable\n",
       "    el.attr('tabindex', 0)\n",
       "    // reach out to IPython and tell the keyboard manager to turn it's self\n",
       "    // off when our div gets focus\n",
       "\n",
       "    // location in version 3\n",
       "    if (IPython.notebook.keyboard_manager) {\n",
       "        IPython.notebook.keyboard_manager.register_events(el);\n",
       "    }\n",
       "    else {\n",
       "        // location in version 2\n",
       "        IPython.keyboard_manager.register_events(el);\n",
       "    }\n",
       "\n",
       "}\n",
       "\n",
       "mpl.figure.prototype._key_event_extra = function(event, name) {\n",
       "    var manager = IPython.notebook.keyboard_manager;\n",
       "    if (!manager)\n",
       "        manager = IPython.keyboard_manager;\n",
       "\n",
       "    // Check for shift+enter\n",
       "    if (event.shiftKey && event.which == 13) {\n",
       "        this.canvas_div.blur();\n",
       "        event.shiftKey = false;\n",
       "        // Send a \"J\" for go to next cell\n",
       "        event.which = 74;\n",
       "        event.keyCode = 74;\n",
       "        manager.command_mode();\n",
       "        manager.handle_keydown(event);\n",
       "    }\n",
       "}\n",
       "\n",
       "mpl.figure.prototype.handle_save = function(fig, msg) {\n",
       "    fig.ondownload(fig, null);\n",
       "}\n",
       "\n",
       "\n",
       "mpl.find_output_cell = function(html_output) {\n",
       "    // Return the cell and output element which can be found *uniquely* in the notebook.\n",
       "    // Note - this is a bit hacky, but it is done because the \"notebook_saving.Notebook\"\n",
       "    // IPython event is triggered only after the cells have been serialised, which for\n",
       "    // our purposes (turning an active figure into a static one), is too late.\n",
       "    var cells = IPython.notebook.get_cells();\n",
       "    var ncells = cells.length;\n",
       "    for (var i=0; i<ncells; i++) {\n",
       "        var cell = cells[i];\n",
       "        if (cell.cell_type === 'code'){\n",
       "            for (var j=0; j<cell.output_area.outputs.length; j++) {\n",
       "                var data = cell.output_area.outputs[j];\n",
       "                if (data.data) {\n",
       "                    // IPython >= 3 moved mimebundle to data attribute of output\n",
       "                    data = data.data;\n",
       "                }\n",
       "                if (data['text/html'] == html_output) {\n",
       "                    return [cell, data, j];\n",
       "                }\n",
       "            }\n",
       "        }\n",
       "    }\n",
       "}\n",
       "\n",
       "// Register the function which deals with the matplotlib target/channel.\n",
       "// The kernel may be null if the page has been refreshed.\n",
       "if (IPython.notebook.kernel != null) {\n",
       "    IPython.notebook.kernel.comm_manager.register_target('matplotlib', mpl.mpl_figure_comm);\n",
       "}\n"
      ],
      "text/plain": [
       "<IPython.core.display.Javascript object>"
      ]
     },
     "metadata": {},
     "output_type": "display_data"
    },
    {
     "data": {
      "text/html": [
       "<img src=\"data:image/png;base64,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\">"
      ],
      "text/plain": [
       "<IPython.core.display.HTML object>"
      ]
     },
     "metadata": {},
     "output_type": "display_data"
    },
    {
     "data": {
      "text/plain": [
       "['349d72af-00e6-489f-99c0-798b7b070a9d']"
      ]
     },
     "execution_count": 135,
     "metadata": {},
     "output_type": "execute_result"
    }
   ],
   "source": [
    "from bluesky.callbacks import LivePlot\n",
    "\n",
    "RE(plan(), LivePlot('det', 'motor'))"
   ]
  },
  {
   "cell_type": "markdown",
   "metadata": {
    "slideshow": {
     "slide_type": "slide"
    }
   },
   "source": [
    "## More Use Cases: Adaptive Steps and Nested Generators\n",
    "\n",
    "Behold the Power of the Fully *Operational* RunEngine"
   ]
  },
  {
   "cell_type": "code",
   "execution_count": 141,
   "metadata": {
    "collapsed": false,
    "slideshow": {
     "slide_type": "subslide"
    }
   },
   "outputs": [
    {
     "data": {
      "application/javascript": [
       "/* Put everything inside the global mpl namespace */\n",
       "window.mpl = {};\n",
       "\n",
       "mpl.get_websocket_type = function() {\n",
       "    if (typeof(WebSocket) !== 'undefined') {\n",
       "        return WebSocket;\n",
       "    } else if (typeof(MozWebSocket) !== 'undefined') {\n",
       "        return MozWebSocket;\n",
       "    } else {\n",
       "        alert('Your browser does not have WebSocket support.' +\n",
       "              'Please try Chrome, Safari or Firefox ≥ 6. ' +\n",
       "              'Firefox 4 and 5 are also supported but you ' +\n",
       "              'have to enable WebSockets in about:config.');\n",
       "    };\n",
       "}\n",
       "\n",
       "mpl.figure = function(figure_id, websocket, ondownload, parent_element) {\n",
       "    this.id = figure_id;\n",
       "\n",
       "    this.ws = websocket;\n",
       "\n",
       "    this.supports_binary = (this.ws.binaryType != undefined);\n",
       "\n",
       "    if (!this.supports_binary) {\n",
       "        var warnings = document.getElementById(\"mpl-warnings\");\n",
       "        if (warnings) {\n",
       "            warnings.style.display = 'block';\n",
       "            warnings.textContent = (\n",
       "                \"This browser does not support binary websocket messages. \" +\n",
       "                    \"Performance may be slow.\");\n",
       "        }\n",
       "    }\n",
       "\n",
       "    this.imageObj = new Image();\n",
       "\n",
       "    this.context = undefined;\n",
       "    this.message = undefined;\n",
       "    this.canvas = undefined;\n",
       "    this.rubberband_canvas = undefined;\n",
       "    this.rubberband_context = undefined;\n",
       "    this.format_dropdown = undefined;\n",
       "\n",
       "    this.image_mode = 'full';\n",
       "\n",
       "    this.root = $('<div/>');\n",
       "    this._root_extra_style(this.root)\n",
       "    this.root.attr('style', 'display: inline-block');\n",
       "\n",
       "    $(parent_element).append(this.root);\n",
       "\n",
       "    this._init_header(this);\n",
       "    this._init_canvas(this);\n",
       "    this._init_toolbar(this);\n",
       "\n",
       "    var fig = this;\n",
       "\n",
       "    this.waiting = false;\n",
       "\n",
       "    this.ws.onopen =  function () {\n",
       "            fig.send_message(\"supports_binary\", {value: fig.supports_binary});\n",
       "            fig.send_message(\"send_image_mode\", {});\n",
       "            fig.send_message(\"refresh\", {});\n",
       "        }\n",
       "\n",
       "    this.imageObj.onload = function() {\n",
       "            if (fig.image_mode == 'full') {\n",
       "                // Full images could contain transparency (where diff images\n",
       "                // almost always do), so we need to clear the canvas so that\n",
       "                // there is no ghosting.\n",
       "                fig.context.clearRect(0, 0, fig.canvas.width, fig.canvas.height);\n",
       "            }\n",
       "            fig.context.drawImage(fig.imageObj, 0, 0);\n",
       "        };\n",
       "\n",
       "    this.imageObj.onunload = function() {\n",
       "        this.ws.close();\n",
       "    }\n",
       "\n",
       "    this.ws.onmessage = this._make_on_message_function(this);\n",
       "\n",
       "    this.ondownload = ondownload;\n",
       "}\n",
       "\n",
       "mpl.figure.prototype._init_header = function() {\n",
       "    var titlebar = $(\n",
       "        '<div class=\"ui-dialog-titlebar ui-widget-header ui-corner-all ' +\n",
       "        'ui-helper-clearfix\"/>');\n",
       "    var titletext = $(\n",
       "        '<div class=\"ui-dialog-title\" style=\"width: 100%; ' +\n",
       "        'text-align: center; padding: 3px;\"/>');\n",
       "    titlebar.append(titletext)\n",
       "    this.root.append(titlebar);\n",
       "    this.header = titletext[0];\n",
       "}\n",
       "\n",
       "\n",
       "\n",
       "mpl.figure.prototype._canvas_extra_style = function(canvas_div) {\n",
       "\n",
       "}\n",
       "\n",
       "\n",
       "mpl.figure.prototype._root_extra_style = function(canvas_div) {\n",
       "\n",
       "}\n",
       "\n",
       "mpl.figure.prototype._init_canvas = function() {\n",
       "    var fig = this;\n",
       "\n",
       "    var canvas_div = $('<div/>');\n",
       "\n",
       "    canvas_div.attr('style', 'position: relative; clear: both; outline: 0');\n",
       "\n",
       "    function canvas_keyboard_event(event) {\n",
       "        return fig.key_event(event, event['data']);\n",
       "    }\n",
       "\n",
       "    canvas_div.keydown('key_press', canvas_keyboard_event);\n",
       "    canvas_div.keyup('key_release', canvas_keyboard_event);\n",
       "    this.canvas_div = canvas_div\n",
       "    this._canvas_extra_style(canvas_div)\n",
       "    this.root.append(canvas_div);\n",
       "\n",
       "    var canvas = $('<canvas/>');\n",
       "    canvas.addClass('mpl-canvas');\n",
       "    canvas.attr('style', \"left: 0; top: 0; z-index: 0; outline: 0\")\n",
       "\n",
       "    this.canvas = canvas[0];\n",
       "    this.context = canvas[0].getContext(\"2d\");\n",
       "\n",
       "    var rubberband = $('<canvas/>');\n",
       "    rubberband.attr('style', \"position: absolute; left: 0; top: 0; z-index: 1;\")\n",
       "\n",
       "    var pass_mouse_events = true;\n",
       "\n",
       "    canvas_div.resizable({\n",
       "        start: function(event, ui) {\n",
       "            pass_mouse_events = false;\n",
       "        },\n",
       "        resize: function(event, ui) {\n",
       "            fig.request_resize(ui.size.width, ui.size.height);\n",
       "        },\n",
       "        stop: function(event, ui) {\n",
       "            pass_mouse_events = true;\n",
       "            fig.request_resize(ui.size.width, ui.size.height);\n",
       "        },\n",
       "    });\n",
       "\n",
       "    function mouse_event_fn(event) {\n",
       "        if (pass_mouse_events)\n",
       "            return fig.mouse_event(event, event['data']);\n",
       "    }\n",
       "\n",
       "    rubberband.mousedown('button_press', mouse_event_fn);\n",
       "    rubberband.mouseup('button_release', mouse_event_fn);\n",
       "    // Throttle sequential mouse events to 1 every 20ms.\n",
       "    rubberband.mousemove('motion_notify', mouse_event_fn);\n",
       "\n",
       "    rubberband.mouseenter('figure_enter', mouse_event_fn);\n",
       "    rubberband.mouseleave('figure_leave', mouse_event_fn);\n",
       "\n",
       "    canvas_div.on(\"wheel\", function (event) {\n",
       "        event = event.originalEvent;\n",
       "        event['data'] = 'scroll'\n",
       "        if (event.deltaY < 0) {\n",
       "            event.step = 1;\n",
       "        } else {\n",
       "            event.step = -1;\n",
       "        }\n",
       "        mouse_event_fn(event);\n",
       "    });\n",
       "\n",
       "    canvas_div.append(canvas);\n",
       "    canvas_div.append(rubberband);\n",
       "\n",
       "    this.rubberband = rubberband;\n",
       "    this.rubberband_canvas = rubberband[0];\n",
       "    this.rubberband_context = rubberband[0].getContext(\"2d\");\n",
       "    this.rubberband_context.strokeStyle = \"#000000\";\n",
       "\n",
       "    this._resize_canvas = function(width, height) {\n",
       "        // Keep the size of the canvas, canvas container, and rubber band\n",
       "        // canvas in synch.\n",
       "        canvas_div.css('width', width)\n",
       "        canvas_div.css('height', height)\n",
       "\n",
       "        canvas.attr('width', width);\n",
       "        canvas.attr('height', height);\n",
       "\n",
       "        rubberband.attr('width', width);\n",
       "        rubberband.attr('height', height);\n",
       "    }\n",
       "\n",
       "    // Set the figure to an initial 600x600px, this will subsequently be updated\n",
       "    // upon first draw.\n",
       "    this._resize_canvas(600, 600);\n",
       "\n",
       "    // Disable right mouse context menu.\n",
       "    $(this.rubberband_canvas).bind(\"contextmenu\",function(e){\n",
       "        return false;\n",
       "    });\n",
       "\n",
       "    function set_focus () {\n",
       "        canvas.focus();\n",
       "        canvas_div.focus();\n",
       "    }\n",
       "\n",
       "    window.setTimeout(set_focus, 100);\n",
       "}\n",
       "\n",
       "mpl.figure.prototype._init_toolbar = function() {\n",
       "    var fig = this;\n",
       "\n",
       "    var nav_element = $('<div/>')\n",
       "    nav_element.attr('style', 'width: 100%');\n",
       "    this.root.append(nav_element);\n",
       "\n",
       "    // Define a callback function for later on.\n",
       "    function toolbar_event(event) {\n",
       "        return fig.toolbar_button_onclick(event['data']);\n",
       "    }\n",
       "    function toolbar_mouse_event(event) {\n",
       "        return fig.toolbar_button_onmouseover(event['data']);\n",
       "    }\n",
       "\n",
       "    for(var toolbar_ind in mpl.toolbar_items) {\n",
       "        var name = mpl.toolbar_items[toolbar_ind][0];\n",
       "        var tooltip = mpl.toolbar_items[toolbar_ind][1];\n",
       "        var image = mpl.toolbar_items[toolbar_ind][2];\n",
       "        var method_name = mpl.toolbar_items[toolbar_ind][3];\n",
       "\n",
       "        if (!name) {\n",
       "            // put a spacer in here.\n",
       "            continue;\n",
       "        }\n",
       "        var button = $('<button/>');\n",
       "        button.addClass('ui-button ui-widget ui-state-default ui-corner-all ' +\n",
       "                        'ui-button-icon-only');\n",
       "        button.attr('role', 'button');\n",
       "        button.attr('aria-disabled', 'false');\n",
       "        button.click(method_name, toolbar_event);\n",
       "        button.mouseover(tooltip, toolbar_mouse_event);\n",
       "\n",
       "        var icon_img = $('<span/>');\n",
       "        icon_img.addClass('ui-button-icon-primary ui-icon');\n",
       "        icon_img.addClass(image);\n",
       "        icon_img.addClass('ui-corner-all');\n",
       "\n",
       "        var tooltip_span = $('<span/>');\n",
       "        tooltip_span.addClass('ui-button-text');\n",
       "        tooltip_span.html(tooltip);\n",
       "\n",
       "        button.append(icon_img);\n",
       "        button.append(tooltip_span);\n",
       "\n",
       "        nav_element.append(button);\n",
       "    }\n",
       "\n",
       "    var fmt_picker_span = $('<span/>');\n",
       "\n",
       "    var fmt_picker = $('<select/>');\n",
       "    fmt_picker.addClass('mpl-toolbar-option ui-widget ui-widget-content');\n",
       "    fmt_picker_span.append(fmt_picker);\n",
       "    nav_element.append(fmt_picker_span);\n",
       "    this.format_dropdown = fmt_picker[0];\n",
       "\n",
       "    for (var ind in mpl.extensions) {\n",
       "        var fmt = mpl.extensions[ind];\n",
       "        var option = $(\n",
       "            '<option/>', {selected: fmt === mpl.default_extension}).html(fmt);\n",
       "        fmt_picker.append(option)\n",
       "    }\n",
       "\n",
       "    // Add hover states to the ui-buttons\n",
       "    $( \".ui-button\" ).hover(\n",
       "        function() { $(this).addClass(\"ui-state-hover\");},\n",
       "        function() { $(this).removeClass(\"ui-state-hover\");}\n",
       "    );\n",
       "\n",
       "    var status_bar = $('<span class=\"mpl-message\"/>');\n",
       "    nav_element.append(status_bar);\n",
       "    this.message = status_bar[0];\n",
       "}\n",
       "\n",
       "mpl.figure.prototype.request_resize = function(x_pixels, y_pixels) {\n",
       "    // Request matplotlib to resize the figure. Matplotlib will then trigger a resize in the client,\n",
       "    // which will in turn request a refresh of the image.\n",
       "    this.send_message('resize', {'width': x_pixels, 'height': y_pixels});\n",
       "}\n",
       "\n",
       "mpl.figure.prototype.send_message = function(type, properties) {\n",
       "    properties['type'] = type;\n",
       "    properties['figure_id'] = this.id;\n",
       "    this.ws.send(JSON.stringify(properties));\n",
       "}\n",
       "\n",
       "mpl.figure.prototype.send_draw_message = function() {\n",
       "    if (!this.waiting) {\n",
       "        this.waiting = true;\n",
       "        this.ws.send(JSON.stringify({type: \"draw\", figure_id: this.id}));\n",
       "    }\n",
       "}\n",
       "\n",
       "\n",
       "mpl.figure.prototype.handle_save = function(fig, msg) {\n",
       "    var format_dropdown = fig.format_dropdown;\n",
       "    var format = format_dropdown.options[format_dropdown.selectedIndex].value;\n",
       "    fig.ondownload(fig, format);\n",
       "}\n",
       "\n",
       "\n",
       "mpl.figure.prototype.handle_resize = function(fig, msg) {\n",
       "    var size = msg['size'];\n",
       "    if (size[0] != fig.canvas.width || size[1] != fig.canvas.height) {\n",
       "        fig._resize_canvas(size[0], size[1]);\n",
       "        fig.send_message(\"refresh\", {});\n",
       "    };\n",
       "}\n",
       "\n",
       "mpl.figure.prototype.handle_rubberband = function(fig, msg) {\n",
       "    var x0 = msg['x0'];\n",
       "    var y0 = fig.canvas.height - msg['y0'];\n",
       "    var x1 = msg['x1'];\n",
       "    var y1 = fig.canvas.height - msg['y1'];\n",
       "    x0 = Math.floor(x0) + 0.5;\n",
       "    y0 = Math.floor(y0) + 0.5;\n",
       "    x1 = Math.floor(x1) + 0.5;\n",
       "    y1 = Math.floor(y1) + 0.5;\n",
       "    var min_x = Math.min(x0, x1);\n",
       "    var min_y = Math.min(y0, y1);\n",
       "    var width = Math.abs(x1 - x0);\n",
       "    var height = Math.abs(y1 - y0);\n",
       "\n",
       "    fig.rubberband_context.clearRect(\n",
       "        0, 0, fig.canvas.width, fig.canvas.height);\n",
       "\n",
       "    fig.rubberband_context.strokeRect(min_x, min_y, width, height);\n",
       "}\n",
       "\n",
       "mpl.figure.prototype.handle_figure_label = function(fig, msg) {\n",
       "    // Updates the figure title.\n",
       "    fig.header.textContent = msg['label'];\n",
       "}\n",
       "\n",
       "mpl.figure.prototype.handle_cursor = function(fig, msg) {\n",
       "    var cursor = msg['cursor'];\n",
       "    switch(cursor)\n",
       "    {\n",
       "    case 0:\n",
       "        cursor = 'pointer';\n",
       "        break;\n",
       "    case 1:\n",
       "        cursor = 'default';\n",
       "        break;\n",
       "    case 2:\n",
       "        cursor = 'crosshair';\n",
       "        break;\n",
       "    case 3:\n",
       "        cursor = 'move';\n",
       "        break;\n",
       "    }\n",
       "    fig.rubberband_canvas.style.cursor = cursor;\n",
       "}\n",
       "\n",
       "mpl.figure.prototype.handle_message = function(fig, msg) {\n",
       "    fig.message.textContent = msg['message'];\n",
       "}\n",
       "\n",
       "mpl.figure.prototype.handle_draw = function(fig, msg) {\n",
       "    // Request the server to send over a new figure.\n",
       "    fig.send_draw_message();\n",
       "}\n",
       "\n",
       "mpl.figure.prototype.handle_image_mode = function(fig, msg) {\n",
       "    fig.image_mode = msg['mode'];\n",
       "}\n",
       "\n",
       "mpl.figure.prototype.updated_canvas_event = function() {\n",
       "    // Called whenever the canvas gets updated.\n",
       "    this.send_message(\"ack\", {});\n",
       "}\n",
       "\n",
       "// A function to construct a web socket function for onmessage handling.\n",
       "// Called in the figure constructor.\n",
       "mpl.figure.prototype._make_on_message_function = function(fig) {\n",
       "    return function socket_on_message(evt) {\n",
       "        if (evt.data instanceof Blob) {\n",
       "            /* FIXME: We get \"Resource interpreted as Image but\n",
       "             * transferred with MIME type text/plain:\" errors on\n",
       "             * Chrome.  But how to set the MIME type?  It doesn't seem\n",
       "             * to be part of the websocket stream */\n",
       "            evt.data.type = \"image/png\";\n",
       "\n",
       "            /* Free the memory for the previous frames */\n",
       "            if (fig.imageObj.src) {\n",
       "                (window.URL || window.webkitURL).revokeObjectURL(\n",
       "                    fig.imageObj.src);\n",
       "            }\n",
       "\n",
       "            fig.imageObj.src = (window.URL || window.webkitURL).createObjectURL(\n",
       "                evt.data);\n",
       "            fig.updated_canvas_event();\n",
       "            fig.waiting = false;\n",
       "            return;\n",
       "        }\n",
       "        else if (typeof evt.data === 'string' && evt.data.slice(0, 21) == \"data:image/png;base64\") {\n",
       "            fig.imageObj.src = evt.data;\n",
       "            fig.updated_canvas_event();\n",
       "            fig.waiting = false;\n",
       "            return;\n",
       "        }\n",
       "\n",
       "        var msg = JSON.parse(evt.data);\n",
       "        var msg_type = msg['type'];\n",
       "\n",
       "        // Call the  \"handle_{type}\" callback, which takes\n",
       "        // the figure and JSON message as its only arguments.\n",
       "        try {\n",
       "            var callback = fig[\"handle_\" + msg_type];\n",
       "        } catch (e) {\n",
       "            console.log(\"No handler for the '\" + msg_type + \"' message type: \", msg);\n",
       "            return;\n",
       "        }\n",
       "\n",
       "        if (callback) {\n",
       "            try {\n",
       "                // console.log(\"Handling '\" + msg_type + \"' message: \", msg);\n",
       "                callback(fig, msg);\n",
       "            } catch (e) {\n",
       "                console.log(\"Exception inside the 'handler_\" + msg_type + \"' callback:\", e, e.stack, msg);\n",
       "            }\n",
       "        }\n",
       "    };\n",
       "}\n",
       "\n",
       "// from http://stackoverflow.com/questions/1114465/getting-mouse-location-in-canvas\n",
       "mpl.findpos = function(e) {\n",
       "    //this section is from http://www.quirksmode.org/js/events_properties.html\n",
       "    var targ;\n",
       "    if (!e)\n",
       "        e = window.event;\n",
       "    if (e.target)\n",
       "        targ = e.target;\n",
       "    else if (e.srcElement)\n",
       "        targ = e.srcElement;\n",
       "    if (targ.nodeType == 3) // defeat Safari bug\n",
       "        targ = targ.parentNode;\n",
       "\n",
       "    // jQuery normalizes the pageX and pageY\n",
       "    // pageX,Y are the mouse positions relative to the document\n",
       "    // offset() returns the position of the element relative to the document\n",
       "    var x = e.pageX - $(targ).offset().left;\n",
       "    var y = e.pageY - $(targ).offset().top;\n",
       "\n",
       "    return {\"x\": x, \"y\": y};\n",
       "};\n",
       "\n",
       "/*\n",
       " * return a copy of an object with only non-object keys\n",
       " * we need this to avoid circular references\n",
       " * http://stackoverflow.com/a/24161582/3208463\n",
       " */\n",
       "function simpleKeys (original) {\n",
       "  return Object.keys(original).reduce(function (obj, key) {\n",
       "    if (typeof original[key] !== 'object')\n",
       "        obj[key] = original[key]\n",
       "    return obj;\n",
       "  }, {});\n",
       "}\n",
       "\n",
       "mpl.figure.prototype.mouse_event = function(event, name) {\n",
       "    var canvas_pos = mpl.findpos(event)\n",
       "\n",
       "    if (name === 'button_press')\n",
       "    {\n",
       "        this.canvas.focus();\n",
       "        this.canvas_div.focus();\n",
       "    }\n",
       "\n",
       "    var x = canvas_pos.x;\n",
       "    var y = canvas_pos.y;\n",
       "\n",
       "    this.send_message(name, {x: x, y: y, button: event.button,\n",
       "                             step: event.step,\n",
       "                             guiEvent: simpleKeys(event)});\n",
       "\n",
       "    /* This prevents the web browser from automatically changing to\n",
       "     * the text insertion cursor when the button is pressed.  We want\n",
       "     * to control all of the cursor setting manually through the\n",
       "     * 'cursor' event from matplotlib */\n",
       "    event.preventDefault();\n",
       "    return false;\n",
       "}\n",
       "\n",
       "mpl.figure.prototype._key_event_extra = function(event, name) {\n",
       "    // Handle any extra behaviour associated with a key event\n",
       "}\n",
       "\n",
       "mpl.figure.prototype.key_event = function(event, name) {\n",
       "\n",
       "    // Prevent repeat events\n",
       "    if (name == 'key_press')\n",
       "    {\n",
       "        if (event.which === this._key)\n",
       "            return;\n",
       "        else\n",
       "            this._key = event.which;\n",
       "    }\n",
       "    if (name == 'key_release')\n",
       "        this._key = null;\n",
       "\n",
       "    var value = '';\n",
       "    if (event.ctrlKey && event.which != 17)\n",
       "        value += \"ctrl+\";\n",
       "    if (event.altKey && event.which != 18)\n",
       "        value += \"alt+\";\n",
       "    if (event.shiftKey && event.which != 16)\n",
       "        value += \"shift+\";\n",
       "\n",
       "    value += 'k';\n",
       "    value += event.which.toString();\n",
       "\n",
       "    this._key_event_extra(event, name);\n",
       "\n",
       "    this.send_message(name, {key: value,\n",
       "                             guiEvent: simpleKeys(event)});\n",
       "    return false;\n",
       "}\n",
       "\n",
       "mpl.figure.prototype.toolbar_button_onclick = function(name) {\n",
       "    if (name == 'download') {\n",
       "        this.handle_save(this, null);\n",
       "    } else {\n",
       "        this.send_message(\"toolbar_button\", {name: name});\n",
       "    }\n",
       "};\n",
       "\n",
       "mpl.figure.prototype.toolbar_button_onmouseover = function(tooltip) {\n",
       "    this.message.textContent = tooltip;\n",
       "};\n",
       "mpl.toolbar_items = [[\"Home\", \"Reset original view\", \"fa fa-home icon-home\", \"home\"], [\"Back\", \"Back to  previous view\", \"fa fa-arrow-left icon-arrow-left\", \"back\"], [\"Forward\", \"Forward to next view\", \"fa fa-arrow-right icon-arrow-right\", \"forward\"], [\"\", \"\", \"\", \"\"], [\"Pan\", \"Pan axes with left mouse, zoom with right\", \"fa fa-arrows icon-move\", \"pan\"], [\"Zoom\", \"Zoom to rectangle\", \"fa fa-square-o icon-check-empty\", \"zoom\"], [\"\", \"\", \"\", \"\"], [\"Download\", \"Download plot\", \"fa fa-floppy-o icon-save\", \"download\"]];\n",
       "\n",
       "mpl.extensions = [\"eps\", \"jpeg\", \"pdf\", \"png\", \"ps\", \"raw\", \"svg\", \"tif\"];\n",
       "\n",
       "mpl.default_extension = \"png\";var comm_websocket_adapter = function(comm) {\n",
       "    // Create a \"websocket\"-like object which calls the given IPython comm\n",
       "    // object with the appropriate methods. Currently this is a non binary\n",
       "    // socket, so there is still some room for performance tuning.\n",
       "    var ws = {};\n",
       "\n",
       "    ws.close = function() {\n",
       "        comm.close()\n",
       "    };\n",
       "    ws.send = function(m) {\n",
       "        //console.log('sending', m);\n",
       "        comm.send(m);\n",
       "    };\n",
       "    // Register the callback with on_msg.\n",
       "    comm.on_msg(function(msg) {\n",
       "        //console.log('receiving', msg['content']['data'], msg);\n",
       "        // Pass the mpl event to the overriden (by mpl) onmessage function.\n",
       "        ws.onmessage(msg['content']['data'])\n",
       "    });\n",
       "    return ws;\n",
       "}\n",
       "\n",
       "mpl.mpl_figure_comm = function(comm, msg) {\n",
       "    // This is the function which gets called when the mpl process\n",
       "    // starts-up an IPython Comm through the \"matplotlib\" channel.\n",
       "\n",
       "    var id = msg.content.data.id;\n",
       "    // Get hold of the div created by the display call when the Comm\n",
       "    // socket was opened in Python.\n",
       "    var element = $(\"#\" + id);\n",
       "    var ws_proxy = comm_websocket_adapter(comm)\n",
       "\n",
       "    function ondownload(figure, format) {\n",
       "        window.open(figure.imageObj.src);\n",
       "    }\n",
       "\n",
       "    var fig = new mpl.figure(id, ws_proxy,\n",
       "                           ondownload,\n",
       "                           element.get(0));\n",
       "\n",
       "    // Call onopen now - mpl needs it, as it is assuming we've passed it a real\n",
       "    // web socket which is closed, not our websocket->open comm proxy.\n",
       "    ws_proxy.onopen();\n",
       "\n",
       "    fig.parent_element = element.get(0);\n",
       "    fig.cell_info = mpl.find_output_cell(\"<div id='\" + id + \"'></div>\");\n",
       "    if (!fig.cell_info) {\n",
       "        console.error(\"Failed to find cell for figure\", id, fig);\n",
       "        return;\n",
       "    }\n",
       "\n",
       "    var output_index = fig.cell_info[2]\n",
       "    var cell = fig.cell_info[0];\n",
       "\n",
       "};\n",
       "\n",
       "mpl.figure.prototype.handle_close = function(fig, msg) {\n",
       "    fig.root.unbind('remove')\n",
       "\n",
       "    // Update the output cell to use the data from the current canvas.\n",
       "    fig.push_to_output();\n",
       "    var dataURL = fig.canvas.toDataURL();\n",
       "    // Re-enable the keyboard manager in IPython - without this line, in FF,\n",
       "    // the notebook keyboard shortcuts fail.\n",
       "    IPython.keyboard_manager.enable()\n",
       "    $(fig.parent_element).html('<img src=\"' + dataURL + '\">');\n",
       "    fig.close_ws(fig, msg);\n",
       "}\n",
       "\n",
       "mpl.figure.prototype.close_ws = function(fig, msg){\n",
       "    fig.send_message('closing', msg);\n",
       "    // fig.ws.close()\n",
       "}\n",
       "\n",
       "mpl.figure.prototype.push_to_output = function(remove_interactive) {\n",
       "    // Turn the data on the canvas into data in the output cell.\n",
       "    var dataURL = this.canvas.toDataURL();\n",
       "    this.cell_info[1]['text/html'] = '<img src=\"' + dataURL + '\">';\n",
       "}\n",
       "\n",
       "mpl.figure.prototype.updated_canvas_event = function() {\n",
       "    // Tell IPython that the notebook contents must change.\n",
       "    IPython.notebook.set_dirty(true);\n",
       "    this.send_message(\"ack\", {});\n",
       "    var fig = this;\n",
       "    // Wait a second, then push the new image to the DOM so\n",
       "    // that it is saved nicely (might be nice to debounce this).\n",
       "    setTimeout(function () { fig.push_to_output() }, 1000);\n",
       "}\n",
       "\n",
       "mpl.figure.prototype._init_toolbar = function() {\n",
       "    var fig = this;\n",
       "\n",
       "    var nav_element = $('<div/>')\n",
       "    nav_element.attr('style', 'width: 100%');\n",
       "    this.root.append(nav_element);\n",
       "\n",
       "    // Define a callback function for later on.\n",
       "    function toolbar_event(event) {\n",
       "        return fig.toolbar_button_onclick(event['data']);\n",
       "    }\n",
       "    function toolbar_mouse_event(event) {\n",
       "        return fig.toolbar_button_onmouseover(event['data']);\n",
       "    }\n",
       "\n",
       "    for(var toolbar_ind in mpl.toolbar_items){\n",
       "        var name = mpl.toolbar_items[toolbar_ind][0];\n",
       "        var tooltip = mpl.toolbar_items[toolbar_ind][1];\n",
       "        var image = mpl.toolbar_items[toolbar_ind][2];\n",
       "        var method_name = mpl.toolbar_items[toolbar_ind][3];\n",
       "\n",
       "        if (!name) { continue; };\n",
       "\n",
       "        var button = $('<button class=\"btn btn-default\" href=\"#\" title=\"' + name + '\"><i class=\"fa ' + image + ' fa-lg\"></i></button>');\n",
       "        button.click(method_name, toolbar_event);\n",
       "        button.mouseover(tooltip, toolbar_mouse_event);\n",
       "        nav_element.append(button);\n",
       "    }\n",
       "\n",
       "    // Add the status bar.\n",
       "    var status_bar = $('<span class=\"mpl-message\" style=\"text-align:right; float: right;\"/>');\n",
       "    nav_element.append(status_bar);\n",
       "    this.message = status_bar[0];\n",
       "\n",
       "    // Add the close button to the window.\n",
       "    var buttongrp = $('<div class=\"btn-group inline pull-right\"></div>');\n",
       "    var button = $('<button class=\"btn btn-mini btn-primary\" href=\"#\" title=\"Stop Interaction\"><i class=\"fa fa-power-off icon-remove icon-large\"></i></button>');\n",
       "    button.click(function (evt) { fig.handle_close(fig, {}); } );\n",
       "    button.mouseover('Stop Interaction', toolbar_mouse_event);\n",
       "    buttongrp.append(button);\n",
       "    var titlebar = this.root.find($('.ui-dialog-titlebar'));\n",
       "    titlebar.prepend(buttongrp);\n",
       "}\n",
       "\n",
       "mpl.figure.prototype._root_extra_style = function(el){\n",
       "    var fig = this\n",
       "    el.on(\"remove\", function(){\n",
       "\tfig.close_ws(fig, {});\n",
       "    });\n",
       "}\n",
       "\n",
       "mpl.figure.prototype._canvas_extra_style = function(el){\n",
       "    // this is important to make the div 'focusable\n",
       "    el.attr('tabindex', 0)\n",
       "    // reach out to IPython and tell the keyboard manager to turn it's self\n",
       "    // off when our div gets focus\n",
       "\n",
       "    // location in version 3\n",
       "    if (IPython.notebook.keyboard_manager) {\n",
       "        IPython.notebook.keyboard_manager.register_events(el);\n",
       "    }\n",
       "    else {\n",
       "        // location in version 2\n",
       "        IPython.keyboard_manager.register_events(el);\n",
       "    }\n",
       "\n",
       "}\n",
       "\n",
       "mpl.figure.prototype._key_event_extra = function(event, name) {\n",
       "    var manager = IPython.notebook.keyboard_manager;\n",
       "    if (!manager)\n",
       "        manager = IPython.keyboard_manager;\n",
       "\n",
       "    // Check for shift+enter\n",
       "    if (event.shiftKey && event.which == 13) {\n",
       "        this.canvas_div.blur();\n",
       "        event.shiftKey = false;\n",
       "        // Send a \"J\" for go to next cell\n",
       "        event.which = 74;\n",
       "        event.keyCode = 74;\n",
       "        manager.command_mode();\n",
       "        manager.handle_keydown(event);\n",
       "    }\n",
       "}\n",
       "\n",
       "mpl.figure.prototype.handle_save = function(fig, msg) {\n",
       "    fig.ondownload(fig, null);\n",
       "}\n",
       "\n",
       "\n",
       "mpl.find_output_cell = function(html_output) {\n",
       "    // Return the cell and output element which can be found *uniquely* in the notebook.\n",
       "    // Note - this is a bit hacky, but it is done because the \"notebook_saving.Notebook\"\n",
       "    // IPython event is triggered only after the cells have been serialised, which for\n",
       "    // our purposes (turning an active figure into a static one), is too late.\n",
       "    var cells = IPython.notebook.get_cells();\n",
       "    var ncells = cells.length;\n",
       "    for (var i=0; i<ncells; i++) {\n",
       "        var cell = cells[i];\n",
       "        if (cell.cell_type === 'code'){\n",
       "            for (var j=0; j<cell.output_area.outputs.length; j++) {\n",
       "                var data = cell.output_area.outputs[j];\n",
       "                if (data.data) {\n",
       "                    // IPython >= 3 moved mimebundle to data attribute of output\n",
       "                    data = data.data;\n",
       "                }\n",
       "                if (data['text/html'] == html_output) {\n",
       "                    return [cell, data, j];\n",
       "                }\n",
       "            }\n",
       "        }\n",
       "    }\n",
       "}\n",
       "\n",
       "// Register the function which deals with the matplotlib target/channel.\n",
       "// The kernel may be null if the page has been refreshed.\n",
       "if (IPython.notebook.kernel != null) {\n",
       "    IPython.notebook.kernel.comm_manager.register_target('matplotlib', mpl.mpl_figure_comm);\n",
       "}\n"
      ],
      "text/plain": [
       "<IPython.core.display.Javascript object>"
      ]
     },
     "metadata": {},
     "output_type": "display_data"
    },
    {
     "data": {
      "text/html": [
       "<img src=\"data:image/png;base64,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\">"
      ],
      "text/plain": [
       "<IPython.core.display.HTML object>"
      ]
     },
     "metadata": {},
     "output_type": "display_data"
    }
   ],
   "source": [
    "plt.figure();"
   ]
  },
  {
   "cell_type": "code",
   "execution_count": 142,
   "metadata": {
    "collapsed": false,
    "slideshow": {
     "slide_type": "fragment"
    }
   },
   "outputs": [
    {
     "data": {
      "text/plain": [
       "['171becd4-ebaa-4df6-b573-13c71d19953e']"
      ]
     },
     "execution_count": 142,
     "metadata": {},
     "output_type": "execute_result"
    }
   ],
   "source": [
    "from bluesky.plans import adaptive_scan\n",
    "motor._fake_sleep = 0\n",
    "\n",
    "RE(adaptive_scan([det], 'det', motor, -10, 10, 0.1, 5, 0.1, True),\n",
    "   LivePlot('det', 'motor', marker='o'))"
   ]
  },
  {
   "cell_type": "code",
   "execution_count": 143,
   "metadata": {
    "collapsed": false,
    "slideshow": {
     "slide_type": "subslide"
    }
   },
   "outputs": [
    {
     "name": "stdout",
     "output_type": "stream",
     "text": [
      "+-----------+------------+------------+------------+\n",
      "|   seq_num |       time |      motor |        det |\n",
      "+-----------+------------+------------+------------+\n",
      "|         1 | 11:10:35.8 |      0.000 |      1.000 |\n",
      "|         2 | 11:10:35.8 |      1.000 |      0.607 |\n",
      "|         3 | 11:10:35.8 |      2.000 |      0.135 |\n",
      "|         4 | 11:10:35.8 |      3.000 |      0.011 |\n",
      "|         5 | 11:10:35.8 |      4.000 |      0.000 |\n",
      "+-----------+------------+------------+------------+\n",
      "generator plan ['6a4eb7'] (scan num: 15)\n"
     ]
    },
    {
     "data": {
      "text/plain": [
       "['6a4eb705-99a3-458d-a03d-b9fbcb127060']"
      ]
     },
     "execution_count": 143,
     "metadata": {},
     "output_type": "execute_result"
    }
   ],
   "source": [
    "RE(plan(), LiveTable([motor, det]))"
   ]
  },
  {
   "cell_type": "code",
   "execution_count": 144,
   "metadata": {
    "collapsed": false,
    "slideshow": {
     "slide_type": "subslide"
    }
   },
   "outputs": [
    {
     "name": "stdout",
     "output_type": "stream",
     "text": [
      "+-----------+------------+------------+------------+\n",
      "|   seq_num |       time |      motor |        det |\n",
      "+-----------+------------+------------+------------+\n",
      "|         1 | 11:10:56.4 |      4.000 |      0.000 |\n",
      "|         2 | 11:10:56.4 |      5.000 |      0.000 |\n",
      "|         3 | 11:10:56.4 |      6.000 |      0.000 |\n",
      "|         4 | 11:10:56.4 |      7.000 |      0.000 |\n",
      "|         5 | 11:10:56.4 |      8.000 |      0.000 |\n",
      "+-----------+------------+------------+------------+\n",
      "generator relative_set_wrapper ['bdd95f'] (scan num: 16)\n"
     ]
    },
    {
     "data": {
      "text/plain": [
       "['bdd95f3d-7cee-4897-ab5f-aee7cbdd0949']"
      ]
     },
     "execution_count": 144,
     "metadata": {},
     "output_type": "execute_result"
    }
   ],
   "source": [
    "from bluesky.plans import relative_set_wrapper\n",
    "\n",
    "# We left motor at position 4.0 above.\n",
    "\n",
    "RE(relative_set_wrapper(plan()), LiveTable([motor, det]))"
   ]
  },
  {
   "cell_type": "code",
   "execution_count": 145,
   "metadata": {
    "collapsed": false,
    "slideshow": {
     "slide_type": "subslide"
    }
   },
   "outputs": [
    {
     "name": "stdout",
     "output_type": "stream",
     "text": [
      "sleep: (None), (3,), {}\n",
      "sum: (None), (3, 4), {}\n",
      "RECEIVED: 7\n"
     ]
    },
    {
     "data": {
      "text/plain": [
       "[]"
      ]
     },
     "execution_count": 145,
     "metadata": {},
     "output_type": "execute_result"
    }
   ],
   "source": [
    "from bluesky.plans import msg_mutator\n",
    "\n",
    "def triple_sleep(msg):\n",
    "    \"Alter any sleep messages to triple the sleep time.\"\n",
    "    if msg.command == 'sleep':\n",
    "        t, = msg.args\n",
    "        new_msg = msg._replace(args=(3 * t,))\n",
    "        return new_msg\n",
    "    else:\n",
    "        return msg\n",
    "\n",
    "RE.msg_hook = print\n",
    "RE(msg_mutator(adding_plan(), triple_sleep))"
   ]
  },
  {
   "cell_type": "markdown",
   "metadata": {
    "slideshow": {
     "slide_type": "slide"
    }
   },
   "source": [
    "## Additional Info\n",
    "\n",
    "<p>Source: https://github.com/NSLS-II</p>\n",
    "<p>Project Documentation: https://NSLS-II.github.io</p>\n",
    "<p>Document Model: https://NSLS-II.github.io/architecture-overview.html</p>"
   ]
  }
 ],
 "metadata": {
  "anaconda-cloud": {},
  "celltoolbar": "Slideshow",
  "kernelspec": {
   "display_name": "Python [bnl]",
   "language": "python",
   "name": "Python [bnl]"
  },
  "language_info": {
   "codemirror_mode": {
    "name": "ipython",
    "version": 3
   },
   "file_extension": ".py",
   "mimetype": "text/x-python",
   "name": "python",
   "nbconvert_exporter": "python",
   "pygments_lexer": "ipython3",
   "version": "3.5.2"
  },
  "nbpresent": {
   "slides": {
    "dbc322bf-e91e-46c0-bfbc-0e7360629b7b": {
     "id": "dbc322bf-e91e-46c0-bfbc-0e7360629b7b",
     "prev": "ffd53d27-ea32-4370-bd07-35b600c3ab58",
     "regions": {
      "d3eb6fc4-5017-4091-8686-1348d63cfd3a": {
       "attrs": {
        "height": 1,
        "width": 1,
        "x": 0,
        "y": 0
       },
       "id": "d3eb6fc4-5017-4091-8686-1348d63cfd3a"
      }
     }
    },
    "ffd53d27-ea32-4370-bd07-35b600c3ab58": {
     "id": "ffd53d27-ea32-4370-bd07-35b600c3ab58",
     "layout": "grid",
     "prev": null,
     "regions": {
      "558cca0b-969a-417b-bbc3-2caf93e21cc5": {
       "attrs": {
        "height": 0.8333333333333334,
        "pad": 0.01,
        "width": 0.8333333333333334,
        "x": 0.08333333333333333,
        "y": 0.08333333333333333
       },
       "id": "558cca0b-969a-417b-bbc3-2caf93e21cc5"
      },
      "c0806422-85fb-4629-bd67-86d1fd3809e8": {
       "attrs": {
        "height": 1,
        "pad": 0.01,
        "width": 1,
        "x": 0,
        "y": 0
       },
       "id": "c0806422-85fb-4629-bd67-86d1fd3809e8"
      }
     }
    }
   },
   "themes": {}
  }
 },
 "nbformat": 4,
 "nbformat_minor": 0
}
